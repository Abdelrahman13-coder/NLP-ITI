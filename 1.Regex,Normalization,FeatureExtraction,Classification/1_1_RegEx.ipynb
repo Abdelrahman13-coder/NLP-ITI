{
 "cells": [
  {
   "cell_type": "markdown",
   "metadata": {
    "id": "S68htmLBPpSz"
   },
   "source": [
    "<h1 align=center>RegEx in Python</h1>"
   ]
  },
  {
   "cell_type": "markdown",
   "metadata": {
    "id": "cBMsAppDPpS3"
   },
   "source": [
    " [python documentation](https://docs.python.org/2/library/re.html#regular-expression-syntax)"
   ]
  },
  {
   "cell_type": "markdown",
   "metadata": {
    "id": "T6WTXNG5PpS4"
   },
   "source": [
    "python provide module for regex called `re`\n",
    "\n",
    "most used functions:\n",
    "- sub()\n",
    "- findall()\n",
    "- match()\n",
    "- search()\n",
    "- compile()"
   ]
  },
  {
   "cell_type": "markdown",
   "metadata": {
    "id": "4YDLUWToPpS7"
   },
   "source": [
    "### import `re` module"
   ]
  },
  {
   "cell_type": "code",
   "execution_count": 1,
   "metadata": {
    "id": "t4sifm3NPpS7"
   },
   "outputs": [],
   "source": [
    "import re"
   ]
  },
  {
   "cell_type": "markdown",
   "metadata": {
    "id": "mGGfD8H7PpS_"
   },
   "source": [
    "<h3 align=center>Using Specific Words</h3>"
   ]
  },
  {
   "cell_type": "markdown",
   "metadata": {
    "id": "dHbPMT9ZPpTB"
   },
   "source": [
    "#### `sub()` function"
   ]
  },
  {
   "cell_type": "code",
   "execution_count": 2,
   "metadata": {
    "colab": {
     "base_uri": "https://localhost:8080/",
     "height": 35
    },
    "id": "SUs2slskPpTC",
    "outputId": "cb821cd0-3761-46fb-c89a-dba360ffe9fb"
   },
   "outputs": [
    {
     "data": {
      "text/plain": [
       "'Wssam plays footbal.'"
      ]
     },
     "execution_count": 2,
     "metadata": {},
     "output_type": "execute_result"
    }
   ],
   "source": [
    "text = 'Hossam plays footbal.'\n",
    "\n",
    "re.sub('Hossam', 'Wssam', text)"
   ]
  },
  {
   "cell_type": "code",
   "execution_count": 3,
   "metadata": {
    "colab": {
     "base_uri": "https://localhost:8080/",
     "height": 35
    },
    "id": "q8xtpkaUPpTE",
    "outputId": "2751fe56-d531-408f-b7b1-8f59924d5943"
   },
   "outputs": [
    {
     "data": {
      "text/plain": [
       "'HossWm plWys footbWl.'"
      ]
     },
     "execution_count": 3,
     "metadata": {},
     "output_type": "execute_result"
    }
   ],
   "source": [
    "text.replace('a', 'W')"
   ]
  },
  {
   "cell_type": "markdown",
   "metadata": {
    "id": "t4QJeOWaPpTF"
   },
   "source": [
    "**text.replace() `faster` than re.sub() `unless using patters`.**"
   ]
  },
  {
   "cell_type": "code",
   "execution_count": 4,
   "metadata": {
    "colab": {
     "base_uri": "https://localhost:8080/",
     "height": 35
    },
    "id": "bpk9QAS-PpTF",
    "outputId": "33913b97-725b-41d4-8111-e85f0e9ed7f7"
   },
   "outputs": [
    {
     "data": {
      "text/plain": [
       "'Hossam_plays_footbal.'"
      ]
     },
     "execution_count": 4,
     "metadata": {},
     "output_type": "execute_result"
    }
   ],
   "source": [
    "re.sub(r'\\s', '_', text)"
   ]
  },
  {
   "cell_type": "markdown",
   "metadata": {
    "id": "s9vThv11PpTG"
   },
   "source": [
    "#### `finall()` function"
   ]
  },
  {
   "cell_type": "code",
   "execution_count": 5,
   "metadata": {
    "colab": {
     "base_uri": "https://localhost:8080/"
    },
    "id": "JqVpgcVgPpTG",
    "outputId": "1b7c83a7-1607-4bb1-d35a-a3fde23ba888"
   },
   "outputs": [
    {
     "data": {
      "text/plain": [
       "['#Hossam', '#pass']"
      ]
     },
     "execution_count": 5,
     "metadata": {},
     "output_type": "execute_result"
    }
   ],
   "source": [
    "text = '''\n",
    "            #Hossam plays footbal.\n",
    "            Ahmed tells Hossam to #pass the ball.\n",
    "'''\n",
    "\n",
    "re.findall(r'#\\S+', text)"
   ]
  },
  {
   "cell_type": "code",
   "execution_count": null,
   "metadata": {
    "id": "EFY5wt88k6gD"
   },
   "outputs": [],
   "source": []
  },
  {
   "cell_type": "markdown",
   "metadata": {
    "id": "EfMM-R6dPpTH"
   },
   "source": [
    "<h3 align=center>Using Patterns</h3>\n"
   ]
  },
  {
   "cell_type": "markdown",
   "metadata": {
    "id": "ghFNEpWSPpTH"
   },
   "source": [
    "[RegEx 101](https://regex101.com/)"
   ]
  },
  {
   "cell_type": "markdown",
   "metadata": {
    "id": "kvs5qGKYPpTI"
   },
   "source": [
    "**Basic patterns that match single chars**\n",
    "\n",
    "\n",
    "| Character  | function |\n",
    "| ------------- | ------------- |\n",
    "| a-z, 0-9  | ordinary characters just match themselves exactly.|\n",
    "| . (dot)  | matches any single character except newline '\\n'  |\n",
    "| \\w | matches a \"word\" character: a letter or digit or underbar [a-zA-Z0-9_] |\n",
    "| \\W | matches any non-word character |\n",
    "| \\b | boundary between word and non-word |\n",
    "| \\s | matches a single whitespace character -- space, newline, return, tab |\n",
    "| \\S | matches any non-whitespace character |\n",
    "| \\t, \\n, \\r | tab, newline, return |\n",
    "| \\d | decimal digit [0-9] |\n",
    "| ^ | matches start of the string |\n",
    "| $ | match the end of the string |"
   ]
  },
  {
   "cell_type": "code",
   "execution_count": 6,
   "metadata": {
    "colab": {
     "base_uri": "https://localhost:8080/"
    },
    "id": "Wm2fvdu9PpTI",
    "outputId": "f4e26d68-80c2-4607-d5aa-8c834dc65c39"
   },
   "outputs": [
    {
     "name": "stdout",
     "output_type": "stream",
     "text": [
      "['string! ', 'punctuation. ', 'it? ']\n"
     ]
    }
   ],
   "source": [
    "text = 'This is a string! But it has punctuation. How can we remove it? '\n",
    "\n",
    "print(re.findall(r'\\w+\\W\\s', text))"
   ]
  },
  {
   "cell_type": "code",
   "execution_count": 17,
   "metadata": {
    "id": "6CZQBXxfmQih"
   },
   "outputs": [
    {
     "name": "stdout",
     "output_type": "stream",
     "text": [
      "['2022', 'year', '2021']\n"
     ]
    }
   ],
   "source": [
    "print(re.findall(r'(\\w+)\\W\\s', text))"
   ]
  },
  {
   "cell_type": "code",
   "execution_count": 18,
   "metadata": {
    "colab": {
     "base_uri": "https://localhost:8080/"
    },
    "id": "XXblHFPMmbeY",
    "outputId": "6f3263f3-855f-42ac-d9c4-35dcc7346dda"
   },
   "outputs": [
    {
     "data": {
      "text/plain": [
       "['yahoo.com']"
      ]
     },
     "execution_count": 18,
     "metadata": {},
     "output_type": "execute_result"
    }
   ],
   "source": [
    "text = 'this is wssma hassan my mail is wssamhassan96@yahoo.com'\n",
    "\n",
    "re.findall(r'\\S+@(\\S+)', text)"
   ]
  },
  {
   "cell_type": "code",
   "execution_count": 19,
   "metadata": {
    "colab": {
     "base_uri": "https://localhost:8080/"
    },
    "id": "LxWaJZhXPpTJ",
    "outputId": "e2269984-a3da-4c88-9271-53f5432656cf"
   },
   "outputs": [
    {
     "data": {
      "text/plain": [
       "[]"
      ]
     },
     "execution_count": 19,
     "metadata": {},
     "output_type": "execute_result"
    }
   ],
   "source": [
    "text = '''regular expression is a special sequence of characters\n",
    "that helps you match or find other strings or sets of strings,\n",
    "using regular expression pattern. regular expressions are widely used in UNIX world.'''\n",
    "\n",
    "re.findall(r'^expression', text)"
   ]
  },
  {
   "cell_type": "code",
   "execution_count": 24,
   "metadata": {
    "id": "AzkqaT6wPpTK",
    "outputId": "3a9f76e3-2898-42d8-c820-c75c4c2e71fd"
   },
   "outputs": [
    {
     "data": {
      "text/plain": [
       "'Reg expression is a special sequence of characters\\nthat helps you match or find other strings or sets of strings,\\nusing regular expression pattern. regular expressions are widely used in UNIX world.'"
      ]
     },
     "execution_count": 24,
     "metadata": {},
     "output_type": "execute_result"
    }
   ],
   "source": [
    "# replace the first regular only \n",
    "\n",
    "re.sub(r'^regular', 'Reg', text)"
   ]
  },
  {
   "cell_type": "markdown",
   "metadata": {
    "id": "BcUgU13uPpTK"
   },
   "source": [
    "### Exercise: Valid Usernames"
   ]
  },
  {
   "cell_type": "code",
   "execution_count": 26,
   "metadata": {
    "colab": {
     "base_uri": "https://localhost:8080/"
    },
    "id": "OGSnS43fPpTL",
    "outputId": "8691a167-865e-4c7e-ff31-20e33260f47d"
   },
   "outputs": [
    {
     "name": "stdout",
     "output_type": "stream",
     "text": [
      "Enter your username: fad fa\n",
      "Warning! invalid username\n"
     ]
    }
   ],
   "source": [
    "user_input = input('Enter your username: ').strip()\n",
    "\n",
    "invalid_input = re.findall(r'\\W', user_input)\n",
    "\n",
    "if invalid_input:\n",
    "    print('Warning! invalid username')\n",
    "else:\n",
    "    print(\"Username {} is valid.\".format(user_input))"
   ]
  },
  {
   "cell_type": "markdown",
   "metadata": {
    "id": "nMY8oSsTPpTL"
   },
   "source": [
    "### Using Patterns Cont."
   ]
  },
  {
   "cell_type": "code",
   "execution_count": 27,
   "metadata": {
    "id": "ZXkUea44oLI4"
   },
   "outputs": [
    {
     "data": {
      "text/plain": [
       "'\\n[abc]edf\\naedf\\nbedf\\ncedf\\n\\n\\na b c x y z\\nA\\n\\n'"
      ]
     },
     "execution_count": 27,
     "metadata": {},
     "output_type": "execute_result"
    }
   ],
   "source": [
    "\"\"\"\n",
    "[abc]edf\n",
    "aedf\n",
    "bedf\n",
    "cedf\n",
    "\n",
    "\n",
    "a b c x y z\n",
    "A\n",
    "\n",
    "\"\"\""
   ]
  },
  {
   "cell_type": "markdown",
   "metadata": {
    "id": "6O8Q_sUePpTM"
   },
   "source": [
    "**Intermediate patterns**\n",
    "\n",
    "| Example  | description |\n",
    "| --- | --- |\n",
    "| [Pp]ython | Match \"Python\" or \"python\" |\n",
    "| rub[ye] | Match \"ruby\" or \"rube\" |\n",
    "| [aeiou] | Match any one lowercase vowel |\n",
    "| [0-9] | Match any digit; same as [0123456789] |\n",
    "| [a-z] | Match any lowercase ASCII letter |\n",
    "| [A-Z] | Match any uppercase ASCII letter |\n",
    "| [a-zA-Z0-9] | Match any of the defined |\n",
    "| [^aeiou] | Match anything other than a lowercase vowel |\n",
    "| [^0-9] | Match anything other than a digit |\n",
    "\n",
    "> we can use **OR** to use multiple regex together.\n"
   ]
  },
  {
   "cell_type": "code",
   "execution_count": 13,
   "metadata": {
    "id": "bSxzeCqiPpTN",
    "outputId": "12ecd7eb-173b-4a0f-c63e-e640caa318ad"
   },
   "outputs": [
    {
     "name": "stdout",
     "output_type": "stream",
     "text": [
      "talking about python\n",
      "talking about python\n",
      "talking about python\n",
      "something else\n"
     ]
    }
   ],
   "source": [
    "texts = [\n",
    "  \"python is a great language\",\n",
    "  \"i lov to write in py\",\n",
    "  \"what a cool language Python is\",\n",
    "  \"the pyramids of giza are so huge!\"\n",
    "]\n",
    "\n",
    "\n",
    "for text in texts:\n",
    "    python_detected = re.findall(r\"[Pp]ython|\\b[Pp]y\\b\", text)\n",
    "    if python_detected:\n",
    "        print(\"talking about python\")\n",
    "    else:\n",
    "        print(\"something else\")"
   ]
  },
  {
   "cell_type": "markdown",
   "metadata": {
    "id": "VLQPXNYSPpTO"
   },
   "source": [
    "**Repetition Cases**\n",
    "\n",
    "| Example | description |\n",
    "| --- | --- |\n",
    "| ruby? | Match \"rub\" or \"ruby\": the y is optional |\n",
    "| ruby* | Match \"rub\" plus 0 or more y(s) |\n",
    "| ruby+ | Match \"rub\" plus 1 or more y(s) |\n",
    "| \\d{3} | Match exactly 3 digits |\n",
    "| \\d{3,} | Match 3 or more digits |\n",
    "| \\d{3,5} | Match 3, 4, or 5 digits |"
   ]
  },
  {
   "cell_type": "code",
   "execution_count": 14,
   "metadata": {
    "id": "zguXEFsTo0xd"
   },
   "outputs": [
    {
     "ename": "SyntaxError",
     "evalue": "invalid syntax (2568249974.py, line 1)",
     "output_type": "error",
     "traceback": [
      "\u001b[1;36m  Input \u001b[1;32mIn [14]\u001b[1;36m\u001b[0m\n\u001b[1;33m    hello+\u001b[0m\n\u001b[1;37m          ^\u001b[0m\n\u001b[1;31mSyntaxError\u001b[0m\u001b[1;31m:\u001b[0m invalid syntax\n"
     ]
    }
   ],
   "source": [
    "\"\"\"\n",
    "\n",
    "hello+\n",
    "helloooooo\n",
    "heoooooo\n",
    "\n",
    "hel*o+\n",
    "\n",
    "\n",
    "\\d{11}\n",
    "\n",
    "\"\"\"\n"
   ]
  },
  {
   "cell_type": "code",
   "execution_count": 28,
   "metadata": {
    "id": "_HgJagylPpTP",
    "outputId": "93720969-e880-44e5-fcd6-64023d839c5b"
   },
   "outputs": [
    {
     "data": {
      "text/plain": [
       "['2022', '2021', '26']"
      ]
     },
     "execution_count": 28,
     "metadata": {},
     "output_type": "execute_result"
    }
   ],
   "source": [
    "text = \"it's 2022, happy new year! and bye bye 2021. My age is 26\"\n",
    "\n",
    "re.findall(r\"\\d+\", text)"
   ]
  },
  {
   "cell_type": "markdown",
   "metadata": {
    "id": "scp7RbsdPpTQ"
   },
   "source": [
    "### Exercise: Valid Phone Number"
   ]
  },
  {
   "cell_type": "code",
   "execution_count": 30,
   "metadata": {
    "id": "js2mESOOPpTR",
    "outputId": "992a9933-261d-46c6-ca1a-8c1d317f45ef"
   },
   "outputs": [
    {
     "name": "stdout",
     "output_type": "stream",
     "text": [
      "Enter your phone number: 423423\n",
      "Warning! invalid phone number\n"
     ]
    }
   ],
   "source": [
    "user_input = input('Enter your phone number: ').strip()\n",
    "\n",
    "valid_number = re.findall(r'\\d{11}', user_input)\n",
    "\n",
    "if valid_number:\n",
    "    print(\"Your phone number  is {}.\".format(user_input))\n",
    "else:\n",
    "    print('Warning! invalid phone number')"
   ]
  },
  {
   "cell_type": "markdown",
   "metadata": {
    "id": "Jf83LnPEPpTS"
   },
   "source": [
    "#### `search()` function\n",
    "\n",
    "to search for the first string matches the pattern"
   ]
  },
  {
   "cell_type": "code",
   "execution_count": null,
   "metadata": {
    "colab": {
     "base_uri": "https://localhost:8080/"
    },
    "id": "Ou4IgYqJPpTT",
    "outputId": "66944d7d-2970-4786-f21d-0a006d5b54b6"
   },
   "outputs": [
    {
     "name": "stdout",
     "output_type": "stream",
     "text": [
      "<re.Match object; span=(11, 34), match='wssamhassan96@gmail.com'>\n"
     ]
    }
   ],
   "source": [
    "text = 'My mail is wssamhassan96@gmail.com and anything@gmail.com'\n",
    "\n",
    "print(re.search(r'\\S+@\\S+', text))"
   ]
  },
  {
   "cell_type": "code",
   "execution_count": null,
   "metadata": {
    "colab": {
     "base_uri": "https://localhost:8080/"
    },
    "id": "TcUKbx0ptHNV",
    "outputId": "82df78dd-529f-4d63-c497-2e46378dd747"
   },
   "outputs": [
    {
     "name": "stdout",
     "output_type": "stream",
     "text": [
      "wssamhassan96@gmail.com\n"
     ]
    }
   ],
   "source": [
    "print(re.search(r'\\S+@\\S+', text).group(0))"
   ]
  },
  {
   "cell_type": "code",
   "execution_count": null,
   "metadata": {
    "id": "o1Q4j8A1tn78"
   },
   "outputs": [],
   "source": [
    "\\S+@gmail | \n",
    "@[gmail]\n",
    "& "
   ]
  },
  {
   "cell_type": "markdown",
   "metadata": {
    "id": "4RMV2q53PpTU"
   },
   "source": [
    "#### `match()` function\n",
    "\n",
    "to search for the string matches the pattern only in the text begining"
   ]
  },
  {
   "cell_type": "code",
   "execution_count": null,
   "metadata": {
    "id": "Zn4OlVDoqM9_"
   },
   "outputs": [],
   "source": [
    "^"
   ]
  },
  {
   "cell_type": "code",
   "execution_count": 31,
   "metadata": {
    "id": "uhHK6DyvPpTU",
    "outputId": "2d79805b-dfd8-4a11-d7e7-bb24bd92f57e"
   },
   "outputs": [
    {
     "name": "stdout",
     "output_type": "stream",
     "text": [
      "wssamhassan96@gmail.com\n",
      "None\n"
     ]
    }
   ],
   "source": [
    "text = 'wssamhassan96@gmail.com is my mail.'\n",
    "print(re.match(r'\\S+@\\S+', text).group())\n",
    "\n",
    "text = 'My mail is wssamhassan96@gmail.com and anything@gmail.com'\n",
    "print(re.match(r'\\S+@\\S+', text))"
   ]
  },
  {
   "cell_type": "markdown",
   "metadata": {
    "id": "iXI8301NPpTV"
   },
   "source": [
    "#### `findall()` VS `search()` VS `match()`"
   ]
  },
  {
   "cell_type": "code",
   "execution_count": 32,
   "metadata": {
    "id": "bZR8TlodPpTW"
   },
   "outputs": [],
   "source": [
    "text = 'My mail is wssamhassan96@gmail.com and anything@gmail.com'\n",
    "\n",
    "find_all = re.findall(r'\\S+@\\S+',  text)\n",
    "searches = re.search(r'\\S+@\\S+',  text)\n",
    "matches = re.match(r'\\S+@\\S+',  text)\n",
    "\n",
    "if searches!=None:\n",
    "    searches = searches.group()\n",
    "    \n",
    "if matches!=None:\n",
    "    matches = matches.group()"
   ]
  },
  {
   "cell_type": "code",
   "execution_count": 33,
   "metadata": {
    "id": "IKza4-7BPpTW",
    "outputId": "b106f830-5b10-4b11-d69a-2fc72c4ae7e3"
   },
   "outputs": [
    {
     "name": "stdout",
     "output_type": "stream",
     "text": [
      "['wssamhassan96@gmail.com', 'anything@gmail.com']\n",
      "wssamhassan96@gmail.com\n",
      "None\n"
     ]
    }
   ],
   "source": [
    "print(find_all)\n",
    "print(searches)\n",
    "print(matches)"
   ]
  },
  {
   "cell_type": "markdown",
   "metadata": {
    "id": "XxotQQFRPpTX"
   },
   "source": [
    "#### `compile()` function"
   ]
  },
  {
   "cell_type": "code",
   "execution_count": null,
   "metadata": {
    "id": "Nvq0vy51PpTY",
    "outputId": "26bef89e-1435-4a9a-d734-484ec075f8ed",
    "scrolled": true
   },
   "outputs": [
    {
     "data": {
      "text/plain": [
       "['Hossam', 'plays', 'footbal.']"
      ]
     },
     "execution_count": 17,
     "metadata": {},
     "output_type": "execute_result"
    }
   ],
   "source": [
    "text = 'Hossam plays footbal.'\n",
    "\n",
    "extract_words = re.compile(r'\\S+')\n",
    "extract_words.findall(text)"
   ]
  },
  {
   "cell_type": "code",
   "execution_count": null,
   "metadata": {
    "id": "4rUYNBegPpTY",
    "outputId": "37e239c0-1458-4c2d-f94c-72aa42cb9a4f"
   },
   "outputs": [
    {
     "data": {
      "text/plain": [
       "['Hossam', 'plays', 'footbal.']"
      ]
     },
     "execution_count": 18,
     "metadata": {},
     "output_type": "execute_result"
    }
   ],
   "source": [
    "re.findall('\\S+', text)"
   ]
  },
  {
   "cell_type": "markdown",
   "metadata": {
    "id": "VKTY-1EEPpTZ"
   },
   "source": [
    "> Both are equivalent, but using `re.compile()` and saving the resulting regular expression object for reuse is more efficient when the expression will be used several times in a single program."
   ]
  }
 ],
 "metadata": {
  "colab": {
   "name": "1.1 RegEx.ipynb",
   "provenance": []
  },
  "kernelspec": {
   "display_name": "Python 3 (ipykernel)",
   "language": "python",
   "name": "python3"
  },
  "language_info": {
   "codemirror_mode": {
    "name": "ipython",
    "version": 3
   },
   "file_extension": ".py",
   "mimetype": "text/x-python",
   "name": "python",
   "nbconvert_exporter": "python",
   "pygments_lexer": "ipython3",
   "version": "3.9.12"
  }
 },
 "nbformat": 4,
 "nbformat_minor": 1
}
