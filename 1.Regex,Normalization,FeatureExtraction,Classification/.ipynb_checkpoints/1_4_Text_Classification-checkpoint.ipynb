{
 "cells": [
  {
   "cell_type": "markdown",
   "metadata": {
    "id": "2C3Q4YfsPxnf"
   },
   "source": [
    "<h1 align=center>Text Classification</h1> \n",
    "\n",
    "This is our `hello world` example "
   ]
  },
  {
   "cell_type": "code",
   "execution_count": null,
   "metadata": {
    "ExecuteTime": {
     "end_time": "2021-11-07T20:25:53.397870Z",
     "start_time": "2021-11-07T20:25:53.392164Z"
    },
    "id": "iBN-ehlzPxnm"
   },
   "outputs": [],
   "source": [
    "# a helper functions and imports\n",
    "from IPython.display import display\n",
    "def highlight_col(x, df):\n",
    "    #set by condition\n",
    "    mask =  df['label'] == 'pos'\n",
    "    mask2 = df['label'] == 'neg'\n",
    "    x = pd.DataFrame('', index=df.index, columns=df.columns)\n",
    "    x.loc[mask] = 'background-color: #e6ffe6'\n",
    "    x.loc[mask2] = 'background-color: #ffe6e6'\n",
    "    return x    "
   ]
  },
  {
   "cell_type": "markdown",
   "metadata": {
    "id": "Z7IIj8foPxnn"
   },
   "source": [
    "## Load the data"
   ]
  },
  {
   "cell_type": "code",
   "execution_count": null,
   "metadata": {
    "ExecuteTime": {
     "end_time": "2021-11-07T20:26:18.759853Z",
     "start_time": "2021-11-07T20:26:18.577048Z"
    },
    "id": "byArLyGuPxnn"
   },
   "outputs": [],
   "source": [
    "import pandas as pd\n",
    "from sklearn.feature_extraction.text import CountVectorizer, TfidfVectorizer\n",
    "\n",
    "train_pos = pd.read_csv(\"../data/arabic-sentiment-twitter-corpus/train_Arabic_tweets_positive_20190413.tsv\",\n",
    "                        sep='\\t', header=None)\n",
    "train_neg = pd.read_csv(\"../data/arabic-sentiment-twitter-corpus/train_Arabic_tweets_negative_20190413.tsv\",\n",
    "                        sep='\\t', header=None)\n",
    "train_data = pd.concat([train_pos, train_neg], ignore_index=True)\n",
    "train_data.columns = ['label', 'tweet']\n",
    "del train_pos, train_neg\n",
    "\n",
    "pd.set_option('display.max_colwidth', 100000)\n",
    "df_tmp = train_data.sample(5)\n",
    "df_tmp.style.apply(lambda x: highlight_col(x, df_tmp), axis=None)"
   ]
  },
  {
   "cell_type": "code",
   "execution_count": null,
   "metadata": {
    "ExecuteTime": {
     "end_time": "2021-11-07T20:26:23.338953Z",
     "start_time": "2021-11-07T20:26:23.252965Z"
    },
    "id": "PkSzNae6Pxno"
   },
   "outputs": [],
   "source": [
    "test_pos = pd.read_csv(\"../data/arabic-sentiment-twitter-corpus/test_Arabic_tweets_positive_20190413.tsv\",\n",
    "                        sep='\\t', header=None)\n",
    "test_neg = pd.read_csv(\"../data/arabic-sentiment-twitter-corpus/test_Arabic_tweets_negative_20190413.tsv\",\n",
    "                        sep='\\t', header=None)\n",
    "test_data = pd.concat([test_pos, test_neg], ignore_index=True)\n",
    "test_data.columns = ['label', 'tweet']\n",
    "del test_pos, test_neg\n",
    "\n",
    "df_tmp = test_data.sample(5)\n",
    "df_tmp.style.apply(lambda x: highlight_col(x, df_tmp), axis=None)"
   ]
  },
  {
   "cell_type": "markdown",
   "metadata": {
    "id": "yZMl31HxPxnp"
   },
   "source": [
    "## Baseline model (using pipeline)"
   ]
  },
  {
   "cell_type": "code",
   "execution_count": null,
   "metadata": {
    "ExecuteTime": {
     "end_time": "2021-11-07T17:34:30.507135Z",
     "start_time": "2021-11-07T17:34:28.369018Z"
    },
    "id": "-3suqzuPPxnp"
   },
   "outputs": [],
   "source": [
    "from sklearn.feature_extraction.text import CountVectorizer, TfidfVectorizer\n",
    "from sklearn.linear_model import LogisticRegression\n",
    "from sklearn.svm import LinearSVC\n",
    "from sklearn.pipeline import make_pipeline\n",
    "\n",
    "vec = CountVectorizer()\n",
    "clf = LogisticRegression()\n",
    "pipe = make_pipeline(vec, clf)\n",
    "pipe.fit(train_data.tweet, train_data.label);"
   ]
  },
  {
   "cell_type": "markdown",
   "metadata": {
    "ExecuteTime": {
     "end_time": "2021-11-07T17:24:27.702822Z",
     "start_time": "2021-11-07T17:24:27.690463Z"
    },
    "id": "RnuZNFl9Pxnp"
   },
   "source": [
    "Let's test this basic model"
   ]
  },
  {
   "cell_type": "code",
   "execution_count": null,
   "metadata": {
    "ExecuteTime": {
     "end_time": "2021-11-07T17:25:30.909493Z",
     "start_time": "2021-11-07T17:25:30.448007Z"
    },
    "id": "kTgH0RpAPxnq"
   },
   "outputs": [],
   "source": [
    "from sklearn import metrics\n",
    "\n",
    "def print_report(pipe, x_test, y_test):\n",
    "    y_pred = pipe.predict(x_test)\n",
    "    report = metrics.classification_report(y_test, y_pred)\n",
    "    print(report)\n",
    "    print(\"accuracy: {:0.3f}\".format(metrics.accuracy_score(y_test, y_pred)))\n",
    "\n",
    "print_report(pipe, test_data.tweet, test_data.label)"
   ]
  },
  {
   "cell_type": "markdown",
   "metadata": {
    "id": "dK0IOJIdPxnr"
   },
   "source": [
    "## let's take a look inside the model"
   ]
  },
  {
   "cell_type": "code",
   "execution_count": null,
   "metadata": {
    "ExecuteTime": {
     "end_time": "2021-11-07T17:27:14.918835Z",
     "start_time": "2021-11-07T17:27:14.845029Z"
    },
    "id": "wZK5FJS2Pxns"
   },
   "outputs": [],
   "source": [
    "import eli5\n",
    "eli5.show_weights(clf, vec=vec, top=20)"
   ]
  },
  {
   "cell_type": "markdown",
   "metadata": {
    "id": "C7QA0CdrPxnt"
   },
   "source": [
    "## Try our model on some tweets"
   ]
  },
  {
   "cell_type": "code",
   "execution_count": null,
   "metadata": {
    "ExecuteTime": {
     "end_time": "2021-11-07T17:30:14.221651Z",
     "start_time": "2021-11-07T17:30:13.829298Z"
    },
    "id": "8olJUNdlPxnt",
    "scrolled": true
   },
   "outputs": [],
   "source": [
    "for _, row in test_data.sample(5).iterrows():\n",
    "    print(f\"true label: {row['label']}\")\n",
    "    display(eli5.show_prediction(clf, row['tweet'], vec=vec,))\n",
    "    print(\"--\"*50)"
   ]
  },
  {
   "cell_type": "markdown",
   "metadata": {
    "id": "fx42EDgxPxnu"
   },
   "source": [
    "## Try Tfidf with some processing"
   ]
  },
  {
   "cell_type": "code",
   "execution_count": null,
   "metadata": {
    "ExecuteTime": {
     "end_time": "2021-11-07T17:36:01.139389Z",
     "start_time": "2021-11-07T17:35:56.066570Z"
    },
    "id": "LePLcHjQPxnv"
   },
   "outputs": [],
   "source": [
    "vec = TfidfVectorizer(analyzer='char_wb', ngram_range=(3, 5), min_df=.01, max_df=.3)\n",
    "clf = LinearSVC()\n",
    "pipe_tfidf = make_pipeline(vec, clf)\n",
    "pipe_tfidf.fit(train_data.tweet, train_data.label)"
   ]
  },
  {
   "cell_type": "code",
   "execution_count": null,
   "metadata": {
    "ExecuteTime": {
     "end_time": "2021-11-07T17:36:02.606852Z",
     "start_time": "2021-11-07T17:36:01.141133Z"
    },
    "id": "kfsItTt0Pxnw"
   },
   "outputs": [],
   "source": [
    "print_report(pipe_tfidf, test_data.tweet, test_data.label)"
   ]
  },
  {
   "cell_type": "code",
   "execution_count": null,
   "metadata": {
    "ExecuteTime": {
     "end_time": "2021-11-07T17:36:18.131465Z",
     "start_time": "2021-11-07T17:36:18.124786Z"
    },
    "id": "8_Oso73KPxnx"
   },
   "outputs": [],
   "source": [
    "eli5.show_weights(clf, vec=vec, top=20)"
   ]
  },
  {
   "cell_type": "code",
   "execution_count": null,
   "metadata": {
    "ExecuteTime": {
     "end_time": "2021-11-07T17:37:04.617508Z",
     "start_time": "2021-11-07T17:37:04.538665Z"
    },
    "id": "7KRqYIsQPxnz",
    "scrolled": true
   },
   "outputs": [],
   "source": [
    "for _, row in test_data.sample(5).iterrows():\n",
    "    print(f\"true label: {row['label']}\")\n",
    "    display(eli5.show_prediction(clf, row['tweet'], vec=vec,))\n",
    "    print(\"--\"*50)"
   ]
  },
  {
   "cell_type": "markdown",
   "metadata": {
    "id": "MngIuHUGPxn0"
   },
   "source": [
    "# Feel free to play with notebook explore different models with different datasets"
   ]
  }
 ],
 "metadata": {
  "colab": {
   "name": "1.4 Text Classification.ipynb",
   "provenance": []
  },
  "kernelspec": {
   "display_name": "Python 3",
   "language": "python",
   "name": "python3"
  },
  "language_info": {
   "codemirror_mode": {
    "name": "ipython",
    "version": 3
   },
   "file_extension": ".py",
   "mimetype": "text/x-python",
   "name": "python",
   "nbconvert_exporter": "python",
   "pygments_lexer": "ipython3",
   "version": "3.8.5"
  }
 },
 "nbformat": 4,
 "nbformat_minor": 0
}
