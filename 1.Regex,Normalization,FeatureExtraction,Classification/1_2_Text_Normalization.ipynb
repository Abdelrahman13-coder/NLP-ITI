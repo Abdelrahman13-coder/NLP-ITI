{
 "cells": [
  {
   "cell_type": "markdown",
   "metadata": {
    "id": "cj5i6f1sPsLg"
   },
   "source": [
    "<h1 align=center>Text Normalization</h1>"
   ]
  },
  {
   "cell_type": "markdown",
   "metadata": {
    "id": "f6eJeKSfPsLj"
   },
   "source": [
    "- Mohamed, Mohammed, Mohammad, Mohammad, Muhammad `->` mohammed\n",
    "- color, colour `->` color"
   ]
  },
  {
   "cell_type": "markdown",
   "metadata": {
    "id": "8EvJdDCQPsLk"
   },
   "source": [
    "### Stemming\n",
    "\n",
    "cutting off the end or the beginning of the word, using `list of common prefixes and suffixes` that can be found in an inflected word."
   ]
  },
  {
   "cell_type": "code",
   "execution_count": 1,
   "metadata": {
    "id": "hiV_YLfmPsLl"
   },
   "outputs": [],
   "source": [
    "from nltk.stem import PorterStemmer\n",
    "\n",
    "stemmer = PorterStemmer()"
   ]
  },
  {
   "cell_type": "code",
   "execution_count": 2,
   "metadata": {
    "id": "7YOab7DmPsLn",
    "outputId": "fea3c11c-38b3-4d78-9139-a75092ace88e"
   },
   "outputs": [
    {
     "name": "stdout",
     "output_type": "stream",
     "text": [
      "care, fli, die, mule, deni, die, agre, own, humbl, size, meet, state, siez, item, sensat, tradit, refer, colon, plot\n"
     ]
    }
   ],
   "source": [
    "words = ['cares', 'flies', 'dies', 'mules', 'denied',\n",
    "           'died', 'agreed', 'owned', 'humbled', 'sized',\n",
    "           'meeting', 'stating', 'siezing', 'itemization',\n",
    "           'sensational', 'traditional', 'reference', 'colonizer',\n",
    "           'plotted']\n",
    "\n",
    "stemmed_words = [stemmer.stem(word) for word in words]\n",
    "print(', '.join(stemmed_words))"
   ]
  },
  {
   "cell_type": "code",
   "execution_count": 19,
   "metadata": {
    "id": "s91FZZHJvHsi"
   },
   "outputs": [],
   "source": [
    "# fly"
   ]
  },
  {
   "cell_type": "markdown",
   "metadata": {
    "id": "nVmmBu0UPsLq"
   },
   "source": [
    "> Snowball stemmer support `different languages`"
   ]
  },
  {
   "cell_type": "code",
   "execution_count": 16,
   "metadata": {},
   "outputs": [
    {
     "name": "stderr",
     "output_type": "stream",
     "text": [
      "[nltk_data] Downloading package wordnet to\n",
      "[nltk_data]     C:\\Users\\Abdelrahman\\AppData\\Roaming\\nltk_data...\n",
      "[nltk_data]   Package wordnet is already up-to-date!\n",
      "[nltk_data] Downloading package omw-1.4 to\n",
      "[nltk_data]     C:\\Users\\Abdelrahman\\AppData\\Roaming\\nltk_data...\n",
      "[nltk_data]   Unzipping corpora\\omw-1.4.zip.\n"
     ]
    },
    {
     "data": {
      "text/plain": [
       "True"
      ]
     },
     "execution_count": 16,
     "metadata": {},
     "output_type": "execute_result"
    }
   ],
   "source": [
    "import nltk\n",
    "nltk.download('wordnet')\n",
    "nltk.download('omw-1.4')"
   ]
  },
  {
   "cell_type": "code",
   "execution_count": 4,
   "metadata": {
    "id": "yU__K35sPsLr",
    "outputId": "abe8dfc8-be32-4f3d-c4b3-77091bde15c8"
   },
   "outputs": [
    {
     "name": "stdout",
     "output_type": "stream",
     "text": [
      "arabic, danish, dutch, english, finnish, french, german, hungarian, italian, norwegian, porter, portuguese, romanian, russian, spanish, swedish\n"
     ]
    }
   ],
   "source": [
    "from nltk.stem.snowball import SnowballStemmer\n",
    "\n",
    "print(\", \".join(SnowballStemmer.languages))"
   ]
  },
  {
   "cell_type": "markdown",
   "metadata": {
    "id": "vPh8l-yAPsLs"
   },
   "source": [
    "#### Using Arabic"
   ]
  },
  {
   "cell_type": "code",
   "execution_count": 5,
   "metadata": {
    "id": "UDglOqk-PsLs",
    "outputId": "6ba39299-8ac9-49b0-b0d6-e904b7430d14"
   },
   "outputs": [
    {
     "data": {
      "text/plain": [
       "'جو سماوه صاف'"
      ]
     },
     "execution_count": 5,
     "metadata": {},
     "output_type": "execute_result"
    }
   ],
   "source": [
    "from nltk.stem.snowball import SnowballStemmer\n",
    "\n",
    "arabic_stemmer = SnowballStemmer(\"arabic\")\n",
    "arabic_stemmer.stem(\"الجو سماؤه صافية\")"
   ]
  },
  {
   "cell_type": "code",
   "execution_count": 6,
   "metadata": {
    "id": "EbKo0ecqPsLv",
    "outputId": "658d4f5c-a446-4731-9ac2-f2224b310a84"
   },
   "outputs": [
    {
     "data": {
      "text/plain": [
       "'جو سماوه صاف'"
      ]
     },
     "execution_count": 6,
     "metadata": {},
     "output_type": "execute_result"
    }
   ],
   "source": [
    "from nltk.stem.snowball import ArabicStemmer\n",
    "\n",
    "ArabicStemmer().stem(\"الجو سماؤه صافية\")"
   ]
  },
  {
   "cell_type": "markdown",
   "metadata": {
    "id": "rw__AzOxPsLx"
   },
   "source": [
    "### Lemmatization\n",
    "same as stemming, but uses `NER Part Of Speech (POS)`"
   ]
  },
  {
   "cell_type": "code",
   "execution_count": 17,
   "metadata": {
    "id": "bfQ5oYUlPsLx"
   },
   "outputs": [],
   "source": [
    "from nltk.stem import WordNetLemmatizer\n",
    "\n",
    "lemmatizer = WordNetLemmatizer()"
   ]
  },
  {
   "cell_type": "code",
   "execution_count": 18,
   "metadata": {
    "id": "j6XV3PlWPsL0",
    "outputId": "68481a4b-2bf1-4428-d7ea-2e7aad30ad91"
   },
   "outputs": [
    {
     "name": "stdout",
     "output_type": "stream",
     "text": [
      "care, fly, dy, mule, denied, died, agreed, owned, humbled, sized, meeting, stating, siezing, itemization, sensational, traditional, reference, colonizer, plotted\n"
     ]
    }
   ],
   "source": [
    "words = ['cares', 'flies', 'dies', 'mules', 'denied',\n",
    "           'died', 'agreed', 'owned', 'humbled', 'sized',\n",
    "           'meeting', 'stating', 'siezing', 'itemization',\n",
    "           'sensational', 'traditional', 'reference', 'colonizer',\n",
    "           'plotted']\n",
    "\n",
    "lemmatized_words = [lemmatizer.lemmatize(word) for word in words]\n",
    "print(', '.join(lemmatized_words))"
   ]
  },
  {
   "cell_type": "code",
   "execution_count": null,
   "metadata": {
    "id": "wU43_R_5w7hy"
   },
   "outputs": [],
   "source": [
    "{'dies':'die'}"
   ]
  },
  {
   "cell_type": "code",
   "execution_count": 9,
   "metadata": {
    "id": "6owgy9SvPsL3",
    "outputId": "d542910c-9d80-4175-ab3a-fbc4fbd2f3e0"
   },
   "outputs": [
    {
     "name": "stdout",
     "output_type": "stream",
     "text": [
      "arabic, danish, dutch, english, finnish, french, german, hungarian, italian, norwegian, porter, portuguese, romanian, russian, spanish, swedish\n"
     ]
    }
   ],
   "source": [
    "from nltk.stem.snowball import SnowballStemmer\n",
    "\n",
    "print(\", \".join(SnowballStemmer.languages))"
   ]
  },
  {
   "cell_type": "code",
   "execution_count": 10,
   "metadata": {
    "id": "3JrkOZKHPsL5",
    "outputId": "6ee25d0e-8a65-4fd2-909f-d74da5e35c1a"
   },
   "outputs": [
    {
     "data": {
      "text/plain": [
       "'جو سماوه صاف'"
      ]
     },
     "execution_count": 10,
     "metadata": {},
     "output_type": "execute_result"
    }
   ],
   "source": [
    "ar_stemmer = SnowballStemmer(\"arabic\")\n",
    "ar_stemmer.stem(\"الجو سماؤه صافية\")"
   ]
  },
  {
   "cell_type": "code",
   "execution_count": 11,
   "metadata": {
    "id": "Llik3TGpPsL7",
    "outputId": "0555b192-add4-4612-b4df-4d4973f68e6c"
   },
   "outputs": [
    {
     "data": {
      "text/plain": [
       "'جو سماوه صاف'"
      ]
     },
     "execution_count": 11,
     "metadata": {},
     "output_type": "execute_result"
    }
   ],
   "source": [
    "from nltk.stem.snowball import ArabicStemmer\n",
    "ArabicStemmer().stem('الجو سماؤه صافية')"
   ]
  },
  {
   "cell_type": "markdown",
   "metadata": {
    "id": "aMqIBs_iPsL8"
   },
   "source": [
    "### `Stemming` VS `Lemmatization` "
   ]
  },
  {
   "cell_type": "markdown",
   "metadata": {
    "id": "r-sIrJiBPsL9"
   },
   "source": [
    "They are the same, but `Lemmatization is more accurate` and keeps the meaning."
   ]
  }
 ],
 "metadata": {
  "colab": {
   "name": "1.2 Text Normalization.ipynb",
   "provenance": []
  },
  "kernelspec": {
   "display_name": "Python 3 (ipykernel)",
   "language": "python",
   "name": "python3"
  },
  "language_info": {
   "codemirror_mode": {
    "name": "ipython",
    "version": 3
   },
   "file_extension": ".py",
   "mimetype": "text/x-python",
   "name": "python",
   "nbconvert_exporter": "python",
   "pygments_lexer": "ipython3",
   "version": "3.9.12"
  }
 },
 "nbformat": 4,
 "nbformat_minor": 1
}
