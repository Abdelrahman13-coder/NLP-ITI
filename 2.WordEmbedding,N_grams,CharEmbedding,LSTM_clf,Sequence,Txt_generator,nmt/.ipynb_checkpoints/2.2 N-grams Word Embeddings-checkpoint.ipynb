{
 "cells": [
  {
   "cell_type": "markdown",
   "metadata": {},
   "source": [
    "<center><h1>N-grams with Word embeddings</h1></center>\n",
    "\n",
    "How can we incorporate N-Grams features with our word embedding, we use **convolution**.\n",
    "\n",
    "<center><img src=\"https://cezannec.github.io/assets/cnn_text/conv_maxpooling_steps.gif\"></center>\n",
    "\n",
    "The window size indicate the N in N-gram, like for example if the kernel size is `3x300`, this means 3-grams model and so on "
   ]
  },
  {
   "cell_type": "code",
   "execution_count": 1,
   "metadata": {
    "ExecuteTime": {
     "end_time": "2021-11-10T22:32:50.850411Z",
     "start_time": "2021-11-10T22:32:35.126011Z"
    }
   },
   "outputs": [],
   "source": [
    "import spacy\n",
    "import pandas as pd\n",
    "import numpy as np\n",
    "from tqdm.auto import tqdm\n",
    "\n",
    "nlp = spacy.load(\"en_core_web_md\")\n",
    "dataset = pd.read_csv(\"../../data/chatbot-data.tsv\", sep=\"\\t\")"
   ]
  },
  {
   "cell_type": "code",
   "execution_count": 2,
   "metadata": {
    "ExecuteTime": {
     "end_time": "2021-11-10T22:32:50.867424Z",
     "start_time": "2021-11-10T22:32:50.851839Z"
    }
   },
   "outputs": [
    {
     "data": {
      "text/html": [
       "<div>\n",
       "<style scoped>\n",
       "    .dataframe tbody tr th:only-of-type {\n",
       "        vertical-align: middle;\n",
       "    }\n",
       "\n",
       "    .dataframe tbody tr th {\n",
       "        vertical-align: top;\n",
       "    }\n",
       "\n",
       "    .dataframe thead th {\n",
       "        text-align: right;\n",
       "    }\n",
       "</style>\n",
       "<table border=\"1\" class=\"dataframe\">\n",
       "  <thead>\n",
       "    <tr style=\"text-align: right;\">\n",
       "      <th></th>\n",
       "      <th>Unnamed: 0</th>\n",
       "      <th>text</th>\n",
       "      <th>intent</th>\n",
       "    </tr>\n",
       "  </thead>\n",
       "  <tbody>\n",
       "    <tr>\n",
       "      <th>0</th>\n",
       "      <td>0</td>\n",
       "      <td>hello there</td>\n",
       "      <td>greetings</td>\n",
       "    </tr>\n",
       "    <tr>\n",
       "      <th>1</th>\n",
       "      <td>1</td>\n",
       "      <td>good morning</td>\n",
       "      <td>greetings</td>\n",
       "    </tr>\n",
       "    <tr>\n",
       "      <th>2</th>\n",
       "      <td>2</td>\n",
       "      <td>welcome</td>\n",
       "      <td>greetings</td>\n",
       "    </tr>\n",
       "    <tr>\n",
       "      <th>3</th>\n",
       "      <td>3</td>\n",
       "      <td>hi!, how are you</td>\n",
       "      <td>greetings</td>\n",
       "    </tr>\n",
       "    <tr>\n",
       "      <th>4</th>\n",
       "      <td>4</td>\n",
       "      <td>Hi there !!</td>\n",
       "      <td>greetings</td>\n",
       "    </tr>\n",
       "  </tbody>\n",
       "</table>\n",
       "</div>"
      ],
      "text/plain": [
       "   Unnamed: 0              text     intent\n",
       "0           0       hello there  greetings\n",
       "1           1      good morning  greetings\n",
       "2           2           welcome  greetings\n",
       "3           3  hi!, how are you  greetings\n",
       "4           4       Hi there !!  greetings"
      ]
     },
     "execution_count": 2,
     "metadata": {},
     "output_type": "execute_result"
    }
   ],
   "source": [
    "dataset.head()"
   ]
  },
  {
   "cell_type": "code",
   "execution_count": 3,
   "metadata": {
    "ExecuteTime": {
     "end_time": "2021-11-10T22:32:50.872943Z",
     "start_time": "2021-11-10T22:32:50.869790Z"
    }
   },
   "outputs": [],
   "source": [
    "def get_longest_text(texts):\n",
    "    longest_input = 0\n",
    "    for text in texts:\n",
    "        text_len= len(text.split())\n",
    "        longest_input = max(longest_input, text_len)\n",
    "    return longest_input"
   ]
  },
  {
   "cell_type": "code",
   "execution_count": 4,
   "metadata": {
    "ExecuteTime": {
     "end_time": "2021-11-10T22:32:50.880491Z",
     "start_time": "2021-11-10T22:32:50.874696Z"
    },
    "scrolled": false
   },
   "outputs": [
    {
     "data": {
      "text/plain": [
       "11"
      ]
     },
     "execution_count": 4,
     "metadata": {},
     "output_type": "execute_result"
    }
   ],
   "source": [
    "longest_input = get_longest_text(dataset['text'])\n",
    "longest_input"
   ]
  },
  {
   "cell_type": "code",
   "execution_count": 5,
   "metadata": {
    "ExecuteTime": {
     "end_time": "2021-11-10T22:32:51.439786Z",
     "start_time": "2021-11-10T22:32:50.882150Z"
    }
   },
   "outputs": [
    {
     "data": {
      "application/vnd.jupyter.widget-view+json": {
       "model_id": "97d8bddc45a94ee5bd54509a519c67c0",
       "version_major": 2,
       "version_minor": 0
      },
      "text/plain": [
       "  0%|          | 0/35 [00:00<?, ?it/s]"
      ]
     },
     "metadata": {},
     "output_type": "display_data"
    }
   ],
   "source": [
    "data_emb = np.zeros((len(dataset), longest_input, 300))\n",
    "for i, text in enumerate(tqdm(nlp.pipe(dataset['text']), total=len(dataset))):\n",
    "    for j, token in enumerate(text):\n",
    "        data_emb[i, j] = token.vector"
   ]
  },
  {
   "cell_type": "code",
   "execution_count": 6,
   "metadata": {
    "ExecuteTime": {
     "end_time": "2021-11-10T22:32:53.249551Z",
     "start_time": "2021-11-10T22:32:51.440941Z"
    }
   },
   "outputs": [],
   "source": [
    "# prepare y\n",
    "from sklearn.preprocessing import LabelEncoder\n",
    "from tensorflow.keras.utils import to_categorical\n",
    "\n",
    "encoder = LabelEncoder()\n",
    "y_encoded = encoder.fit_transform(dataset['intent'])\n",
    "y_encoded = to_categorical(y_encoded)"
   ]
  },
  {
   "cell_type": "code",
   "execution_count": 7,
   "metadata": {
    "ExecuteTime": {
     "end_time": "2021-11-10T22:32:53.255277Z",
     "start_time": "2021-11-10T22:32:53.250833Z"
    },
    "scrolled": true
   },
   "outputs": [
    {
     "data": {
      "text/plain": [
       "array([[0., 0., 0., 1., 0., 0., 0.],\n",
       "       [0., 0., 0., 1., 0., 0., 0.],\n",
       "       [0., 0., 0., 1., 0., 0., 0.],\n",
       "       [0., 0., 0., 1., 0., 0., 0.],\n",
       "       [0., 0., 0., 1., 0., 0., 0.],\n",
       "       [0., 0., 0., 0., 0., 0., 1.],\n",
       "       [0., 0., 0., 0., 0., 0., 1.],\n",
       "       [0., 0., 0., 0., 0., 0., 1.],\n",
       "       [0., 0., 0., 0., 0., 0., 1.],\n",
       "       [0., 0., 0., 0., 0., 0., 1.]], dtype=float32)"
      ]
     },
     "execution_count": 7,
     "metadata": {},
     "output_type": "execute_result"
    }
   ],
   "source": [
    "y_encoded[:10]"
   ]
  },
  {
   "cell_type": "code",
   "execution_count": 8,
   "metadata": {
    "ExecuteTime": {
     "end_time": "2021-11-10T22:32:53.990148Z",
     "start_time": "2021-11-10T22:32:53.257485Z"
    }
   },
   "outputs": [],
   "source": [
    "import tensorflow as tf\n",
    "\n",
    "# define the network\n",
    "inputs = tf.keras.layers.Input((longest_input, 300))\n",
    "reshaped = tf.keras.layers.Reshape((longest_input, 300, 1))(inputs)\n",
    "\n",
    "\n",
    "filters = [2, 3, 4]\n",
    "\n",
    "# define the conv net\n",
    "conv_1 = tf.keras.layers.Conv2D(100, (filters[0], 300), activation='relu')(reshaped)\n",
    "conv_2 = tf.keras.layers.Conv2D(100, (filters[1], 300), activation='relu')(reshaped)\n",
    "conv_3 = tf.keras.layers.Conv2D(100, (filters[2], 300), activation='relu')(reshaped)\n",
    "\n",
    "# define max-pooling\n",
    "pool_1 = tf.keras.layers.MaxPooling2D((longest_input - filters[0] + 1, 1), strides=(1,1))(conv_1)\n",
    "pool_2 = tf.keras.layers.MaxPooling2D((longest_input - filters[1] + 1, 1), strides=(1,1))(conv_2)\n",
    "pool_3 = tf.keras.layers.MaxPooling2D((longest_input - filters[2] + 1, 1), strides=(1,1))(conv_3)\n",
    "\n",
    "# concatenate the convs\n",
    "merged_tensor = tf.keras.layers.concatenate([pool_1, pool_2, pool_3], axis=1)\n",
    "\n",
    "# now flatten them and add a dense layer\n",
    "flatten = tf.keras.layers.Flatten()(merged_tensor)\n",
    "\n",
    "# add a dense layer\n",
    "clf = tf.keras.layers.Dense(100, activation='relu')(flatten)\n",
    "\n",
    "# add final output\n",
    "clf = tf.keras.layers.Dense(len(encoder.classes_), activation='softmax')(clf)"
   ]
  },
  {
   "cell_type": "code",
   "execution_count": 9,
   "metadata": {
    "ExecuteTime": {
     "end_time": "2021-11-10T22:32:54.012345Z",
     "start_time": "2021-11-10T22:32:53.992046Z"
    }
   },
   "outputs": [
    {
     "name": "stdout",
     "output_type": "stream",
     "text": [
      "Model: \"model\"\n",
      "__________________________________________________________________________________________________\n",
      " Layer (type)                   Output Shape         Param #     Connected to                     \n",
      "==================================================================================================\n",
      " input_1 (InputLayer)           [(None, 11, 300)]    0           []                               \n",
      "                                                                                                  \n",
      " reshape (Reshape)              (None, 11, 300, 1)   0           ['input_1[0][0]']                \n",
      "                                                                                                  \n",
      " conv2d (Conv2D)                (None, 10, 1, 100)   60100       ['reshape[0][0]']                \n",
      "                                                                                                  \n",
      " conv2d_1 (Conv2D)              (None, 9, 1, 100)    90100       ['reshape[0][0]']                \n",
      "                                                                                                  \n",
      " conv2d_2 (Conv2D)              (None, 8, 1, 100)    120100      ['reshape[0][0]']                \n",
      "                                                                                                  \n",
      " max_pooling2d (MaxPooling2D)   (None, 1, 1, 100)    0           ['conv2d[0][0]']                 \n",
      "                                                                                                  \n",
      " max_pooling2d_1 (MaxPooling2D)  (None, 1, 1, 100)   0           ['conv2d_1[0][0]']               \n",
      "                                                                                                  \n",
      " max_pooling2d_2 (MaxPooling2D)  (None, 1, 1, 100)   0           ['conv2d_2[0][0]']               \n",
      "                                                                                                  \n",
      " concatenate (Concatenate)      (None, 3, 1, 100)    0           ['max_pooling2d[0][0]',          \n",
      "                                                                  'max_pooling2d_1[0][0]',        \n",
      "                                                                  'max_pooling2d_2[0][0]']        \n",
      "                                                                                                  \n",
      " flatten (Flatten)              (None, 300)          0           ['concatenate[0][0]']            \n",
      "                                                                                                  \n",
      " dense (Dense)                  (None, 100)          30100       ['flatten[0][0]']                \n",
      "                                                                                                  \n",
      " dense_1 (Dense)                (None, 7)            707         ['dense[0][0]']                  \n",
      "                                                                                                  \n",
      "==================================================================================================\n",
      "Total params: 301,107\n",
      "Trainable params: 301,107\n",
      "Non-trainable params: 0\n",
      "__________________________________________________________________________________________________\n"
     ]
    }
   ],
   "source": [
    "# compile the model\n",
    "model = tf.keras.models.Model(inputs, clf)\n",
    "model.compile(loss='categorical_crossentropy', optimizer='adam', metrics=['acc'])\n",
    "model.summary()"
   ]
  },
  {
   "cell_type": "code",
   "execution_count": 10,
   "metadata": {
    "ExecuteTime": {
     "end_time": "2021-11-10T22:32:56.669581Z",
     "start_time": "2021-11-10T22:32:54.013890Z"
    }
   },
   "outputs": [
    {
     "name": "stdout",
     "output_type": "stream",
     "text": [
      "/home/ali/anaconda3/lib/python3.7/site-packages/secretstorage/dhcrypto.py:16: CryptographyDeprecationWarning: int_from_bytes is deprecated, use int.from_bytes instead\n",
      "  from cryptography.utils import int_from_bytes\n",
      "/home/ali/anaconda3/lib/python3.7/site-packages/secretstorage/util.py:25: CryptographyDeprecationWarning: int_from_bytes is deprecated, use int.from_bytes instead\n",
      "  from cryptography.utils import int_from_bytes\n",
      "Requirement already satisfied: pydot in /home/ali/anaconda3/lib/python3.7/site-packages (1.4.1)\n",
      "Requirement already satisfied: graphviz in /home/ali/anaconda3/lib/python3.7/site-packages (0.14)\n",
      "Requirement already satisfied: pyparsing>=2.1.4 in /home/ali/anaconda3/lib/python3.7/site-packages (from pydot) (2.4.2)\n"
     ]
    }
   ],
   "source": [
    "!pip install pydot graphviz"
   ]
  },
  {
   "cell_type": "code",
   "execution_count": 11,
   "metadata": {
    "ExecuteTime": {
     "end_time": "2021-11-10T22:32:56.852763Z",
     "start_time": "2021-11-10T22:32:56.674820Z"
    }
   },
   "outputs": [
    {
     "data": {
      "image/png": "[encoded data removed]",
      "text/plain": [
       "<IPython.core.display.Image object>"
      ]
     },
     "execution_count": 11,
     "metadata": {},
     "output_type": "execute_result"
    }
   ],
   "source": [
    "tf.keras.utils.plot_model(\n",
    "    model, show_shapes=False, show_layer_names=True,\n",
    "    rankdir='TB', expand_nested=False, dpi=96\n",
    ")"
   ]
  },
  {
   "cell_type": "code",
   "execution_count": 12,
   "metadata": {
    "ExecuteTime": {
     "end_time": "2021-11-10T22:32:56.881970Z",
     "start_time": "2021-11-10T22:32:56.854572Z"
    }
   },
   "outputs": [],
   "source": [
    "# let's split the data and train our model\n",
    "from sklearn.model_selection import train_test_split\n",
    "\n",
    "x_train, x_test, y_train, y_test = train_test_split(data_emb, y_encoded, test_size=.2)"
   ]
  },
  {
   "cell_type": "code",
   "execution_count": 13,
   "metadata": {
    "ExecuteTime": {
     "end_time": "2021-11-10T22:32:58.903762Z",
     "start_time": "2021-11-10T22:32:56.883300Z"
    },
    "scrolled": false
   },
   "outputs": [
    {
     "name": "stdout",
     "output_type": "stream",
     "text": [
      "Epoch 1/23\n",
      "WARNING:tensorflow:AutoGraph could not transform <function Model.make_train_function.<locals>.train_function at 0x7fc40c11e5f0> and will run it as-is.\n",
      "Please report this to the TensorFlow team. When filing the bug, set the verbosity to 10 (on Linux, `export AUTOGRAPH_VERBOSITY=10`) and attach the full output.\n",
      "Cause: 'arguments' object has no attribute 'posonlyargs'\n",
      "To silence this warning, decorate the function with @tf.autograph.experimental.do_not_convert\n",
      "WARNING: AutoGraph could not transform <function Model.make_train_function.<locals>.train_function at 0x7fc40c11e5f0> and will run it as-is.\n",
      "Please report this to the TensorFlow team. When filing the bug, set the verbosity to 10 (on Linux, `export AUTOGRAPH_VERBOSITY=10`) and attach the full output.\n",
      "Cause: 'arguments' object has no attribute 'posonlyargs'\n",
      "To silence this warning, decorate the function with @tf.autograph.experimental.do_not_convert\n",
      "1/1 [==============================] - 2s 2s/step - loss: 1.9641 - acc: 0.1071\n",
      "Epoch 2/23\n",
      "1/1 [==============================] - 0s 9ms/step - loss: 1.7346 - acc: 0.5714\n",
      "Epoch 3/23\n",
      "1/1 [==============================] - 0s 10ms/step - loss: 1.4875 - acc: 0.7500\n",
      "Epoch 4/23\n",
      "1/1 [==============================] - 0s 13ms/step - loss: 1.2376 - acc: 0.8929\n",
      "Epoch 5/23\n",
      "1/1 [==============================] - 0s 10ms/step - loss: 1.0017 - acc: 0.9286\n",
      "Epoch 6/23\n",
      "1/1 [==============================] - 0s 9ms/step - loss: 0.7934 - acc: 0.9643\n",
      "Epoch 7/23\n",
      "1/1 [==============================] - 0s 10ms/step - loss: 0.6140 - acc: 1.0000\n",
      "Epoch 8/23\n",
      "1/1 [==============================] - 0s 10ms/step - loss: 0.4640 - acc: 1.0000\n",
      "Epoch 9/23\n",
      "1/1 [==============================] - 0s 9ms/step - loss: 0.3455 - acc: 1.0000\n",
      "Epoch 10/23\n",
      "1/1 [==============================] - 0s 11ms/step - loss: 0.2516 - acc: 1.0000\n",
      "Epoch 11/23\n",
      "1/1 [==============================] - 0s 10ms/step - loss: 0.1801 - acc: 1.0000\n",
      "Epoch 12/23\n",
      "1/1 [==============================] - 0s 9ms/step - loss: 0.1275 - acc: 1.0000\n",
      "Epoch 13/23\n",
      "1/1 [==============================] - 0s 10ms/step - loss: 0.0894 - acc: 1.0000\n",
      "Epoch 14/23\n",
      "1/1 [==============================] - 0s 10ms/step - loss: 0.0627 - acc: 1.0000\n",
      "Epoch 15/23\n",
      "1/1 [==============================] - 0s 12ms/step - loss: 0.0443 - acc: 1.0000\n",
      "Epoch 16/23\n",
      "1/1 [==============================] - 0s 12ms/step - loss: 0.0316 - acc: 1.0000\n",
      "Epoch 17/23\n",
      "1/1 [==============================] - 0s 11ms/step - loss: 0.0228 - acc: 1.0000\n",
      "Epoch 18/23\n",
      "1/1 [==============================] - 0s 8ms/step - loss: 0.0166 - acc: 1.0000\n",
      "Epoch 19/23\n",
      "1/1 [==============================] - 0s 9ms/step - loss: 0.0122 - acc: 1.0000\n",
      "Epoch 20/23\n",
      "1/1 [==============================] - 0s 11ms/step - loss: 0.0090 - acc: 1.0000\n",
      "Epoch 21/23\n",
      "1/1 [==============================] - 0s 13ms/step - loss: 0.0067 - acc: 1.0000\n",
      "Epoch 22/23\n",
      "1/1 [==============================] - 0s 12ms/step - loss: 0.0051 - acc: 1.0000\n",
      "Epoch 23/23\n",
      "1/1 [==============================] - 0s 13ms/step - loss: 0.0039 - acc: 1.0000\n"
     ]
    },
    {
     "data": {
      "text/plain": [
       "<keras.callbacks.History at 0x7fc40c0bdf10>"
      ]
     },
     "execution_count": 13,
     "metadata": {},
     "output_type": "execute_result"
    }
   ],
   "source": [
    "# train our model\n",
    "model.fit(x_train, y_train, epochs=23)"
   ]
  },
  {
   "cell_type": "code",
   "execution_count": 14,
   "metadata": {
    "ExecuteTime": {
     "end_time": "2021-11-10T22:32:59.172270Z",
     "start_time": "2021-11-10T22:32:58.905924Z"
    },
    "scrolled": false
   },
   "outputs": [
    {
     "name": "stdout",
     "output_type": "stream",
     "text": [
      "WARNING:tensorflow:AutoGraph could not transform <function Model.make_test_function.<locals>.test_function at 0x7fc4004084d0> and will run it as-is.\n",
      "Please report this to the TensorFlow team. When filing the bug, set the verbosity to 10 (on Linux, `export AUTOGRAPH_VERBOSITY=10`) and attach the full output.\n",
      "Cause: 'arguments' object has no attribute 'posonlyargs'\n",
      "To silence this warning, decorate the function with @tf.autograph.experimental.do_not_convert\n",
      "WARNING: AutoGraph could not transform <function Model.make_test_function.<locals>.test_function at 0x7fc4004084d0> and will run it as-is.\n",
      "Please report this to the TensorFlow team. When filing the bug, set the verbosity to 10 (on Linux, `export AUTOGRAPH_VERBOSITY=10`) and attach the full output.\n",
      "Cause: 'arguments' object has no attribute 'posonlyargs'\n",
      "To silence this warning, decorate the function with @tf.autograph.experimental.do_not_convert\n",
      "1/1 [==============================] - 0s 215ms/step - loss: 2.1483 - acc: 0.4286\n"
     ]
    },
    {
     "data": {
      "text/plain": [
       "[2.148284673690796, 0.4285714328289032]"
      ]
     },
     "execution_count": 14,
     "metadata": {},
     "output_type": "execute_result"
    }
   ],
   "source": [
    "model.evaluate(x_test, y_test)"
   ]
  },
  {
   "cell_type": "markdown",
   "metadata": {},
   "source": [
    "Let's make a prediction function"
   ]
  },
  {
   "cell_type": "code",
   "execution_count": 15,
   "metadata": {
    "ExecuteTime": {
     "end_time": "2021-11-10T22:32:59.178891Z",
     "start_time": "2021-11-10T22:32:59.174151Z"
    }
   },
   "outputs": [
    {
     "data": {
      "text/plain": [
       "'reserve_enq'"
      ]
     },
     "execution_count": 15,
     "metadata": {},
     "output_type": "execute_result"
    }
   ],
   "source": [
    "encoder.classes_[4]"
   ]
  },
  {
   "cell_type": "code",
   "execution_count": 16,
   "metadata": {
    "ExecuteTime": {
     "end_time": "2021-11-10T22:32:59.542247Z",
     "start_time": "2021-11-10T22:32:59.184327Z"
    }
   },
   "outputs": [
    {
     "name": "stdout",
     "output_type": "stream",
     "text": [
      "WARNING:tensorflow:AutoGraph could not transform <function Model.make_predict_function.<locals>.predict_function at 0x7fc4004104d0> and will run it as-is.\n",
      "Please report this to the TensorFlow team. When filing the bug, set the verbosity to 10 (on Linux, `export AUTOGRAPH_VERBOSITY=10`) and attach the full output.\n",
      "Cause: 'arguments' object has no attribute 'posonlyargs'\n",
      "To silence this warning, decorate the function with @tf.autograph.experimental.do_not_convert\n",
      "WARNING: AutoGraph could not transform <function Model.make_predict_function.<locals>.predict_function at 0x7fc4004104d0> and will run it as-is.\n",
      "Please report this to the TensorFlow team. When filing the bug, set the verbosity to 10 (on Linux, `export AUTOGRAPH_VERBOSITY=10`) and attach the full output.\n",
      "Cause: 'arguments' object has no attribute 'posonlyargs'\n",
      "To silence this warning, decorate the function with @tf.autograph.experimental.do_not_convert\n"
     ]
    },
    {
     "data": {
      "text/plain": [
       "array([[7.5312388e-01, 1.4047691e-01, 2.5648747e-03, 4.3487608e-02,\n",
       "        4.6262581e-02, 4.6202188e-04, 1.3622116e-02]], dtype=float32)"
      ]
     },
     "execution_count": 16,
     "metadata": {},
     "output_type": "execute_result"
    }
   ],
   "source": [
    "text = \"Hello do you have python courses?\"\n",
    "text_v = np.zeros((1, longest_input, 300))\n",
    "for i, token in enumerate(nlp(text)):\n",
    "    if i>=longest_input:\n",
    "        break\n",
    "    text_v[0, i] = token.vector\n",
    "predictions = model.predict(text_v)\n",
    "predictions"
   ]
  },
  {
   "cell_type": "code",
   "execution_count": 17,
   "metadata": {
    "ExecuteTime": {
     "end_time": "2021-11-10T22:32:59.553041Z",
     "start_time": "2021-11-10T22:32:59.545389Z"
    }
   },
   "outputs": [
    {
     "data": {
      "text/plain": [
       "0"
      ]
     },
     "execution_count": 17,
     "metadata": {},
     "output_type": "execute_result"
    }
   ],
   "source": [
    "np.argmax(predictions)"
   ]
  },
  {
   "cell_type": "code",
   "execution_count": 18,
   "metadata": {
    "ExecuteTime": {
     "end_time": "2021-11-10T22:32:59.564761Z",
     "start_time": "2021-11-10T22:32:59.555335Z"
    },
    "scrolled": true
   },
   "outputs": [
    {
     "name": "stdout",
     "output_type": "stream",
     "text": [
      "('availability_enq', 0.753)\n",
      "('cost_enq', 0.14)\n",
      "('duration_enq', 0.003)\n",
      "('greetings', 0.043)\n",
      "('reserve_enq', 0.046)\n",
      "('start_enq', 0.0)\n",
      "('thanks', 0.014)\n"
     ]
    }
   ],
   "source": [
    "for label, prob in zip(encoder.classes_, predictions[0]):\n",
    "    print((label, round(prob, 3)))"
   ]
  },
  {
   "cell_type": "code",
   "execution_count": 19,
   "metadata": {
    "ExecuteTime": {
     "end_time": "2021-11-10T22:32:59.571868Z",
     "start_time": "2021-11-10T22:32:59.567674Z"
    }
   },
   "outputs": [],
   "source": [
    "def predict_n_gram(text):\n",
    "    text_v = np.zeros((1, longest_input, 300))\n",
    "    for i, token in enumerate(nlp(text)):\n",
    "        if i>=longest_input:\n",
    "            break\n",
    "        text_v[0, i] = token.vector\n",
    "    # predict the input \n",
    "    prediction = model.predict(text_v)\n",
    "    label = encoder.classes_[np.argmax(prediction)]\n",
    "    return label"
   ]
  },
  {
   "cell_type": "code",
   "execution_count": 20,
   "metadata": {
    "ExecuteTime": {
     "end_time": "2021-11-10T22:32:59.690574Z",
     "start_time": "2021-11-10T22:32:59.573389Z"
    }
   },
   "outputs": [
    {
     "data": {
      "text/plain": [
       "'cost_enq'"
      ]
     },
     "execution_count": 20,
     "metadata": {},
     "output_type": "execute_result"
    }
   ],
   "source": [
    "predict_n_gram(\"how much for the french course?\")"
   ]
  }
 ],
 "metadata": {
  "kernelspec": {
   "display_name": "Python 3",
   "language": "python",
   "name": "python3"
  },
  "language_info": {
   "codemirror_mode": {
    "name": "ipython",
    "version": 3
   },
   "file_extension": ".py",
   "mimetype": "text/x-python",
   "name": "python",
   "nbconvert_exporter": "python",
   "pygments_lexer": "ipython3",
   "version": "3.8.5"
  }
 },
 "nbformat": 4,
 "nbformat_minor": 2
}
