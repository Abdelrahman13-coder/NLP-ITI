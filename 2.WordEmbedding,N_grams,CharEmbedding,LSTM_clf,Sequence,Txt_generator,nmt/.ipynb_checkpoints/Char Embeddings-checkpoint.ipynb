{
 "cells": [
  {
   "cell_type": "markdown",
   "metadata": {},
   "source": [
    "<center><h1>Character Embeddings for Text Classification</h1></center>\n",
    "\n",
    "character level embedding can be very helpful as it tends to solve the typos issues and out of vocabulary words.\n",
    "\n",
    "<center><img src=\"https://www.researchgate.net/profile/Hoang_Pham26/publication/316875275/figure/fig1/AS:493031154556929@1494559195862/The-CNN-for-extracting-character-level-features-of-word-Hoc-sinh-Student.png\"></center>"
   ]
  },
  {
   "cell_type": "code",
   "execution_count": 1,
   "metadata": {
    "ExecuteTime": {
     "end_time": "2021-11-10T22:40:54.461877Z",
     "start_time": "2021-11-10T22:40:40.121964Z"
    }
   },
   "outputs": [
    {
     "data": {
      "text/html": [
       "<div>\n",
       "<style scoped>\n",
       "    .dataframe tbody tr th:only-of-type {\n",
       "        vertical-align: middle;\n",
       "    }\n",
       "\n",
       "    .dataframe tbody tr th {\n",
       "        vertical-align: top;\n",
       "    }\n",
       "\n",
       "    .dataframe thead th {\n",
       "        text-align: right;\n",
       "    }\n",
       "</style>\n",
       "<table border=\"1\" class=\"dataframe\">\n",
       "  <thead>\n",
       "    <tr style=\"text-align: right;\">\n",
       "      <th></th>\n",
       "      <th>Unnamed: 0</th>\n",
       "      <th>text</th>\n",
       "      <th>intent</th>\n",
       "    </tr>\n",
       "  </thead>\n",
       "  <tbody>\n",
       "    <tr>\n",
       "      <th>0</th>\n",
       "      <td>0</td>\n",
       "      <td>hello there</td>\n",
       "      <td>greetings</td>\n",
       "    </tr>\n",
       "    <tr>\n",
       "      <th>1</th>\n",
       "      <td>1</td>\n",
       "      <td>good morning</td>\n",
       "      <td>greetings</td>\n",
       "    </tr>\n",
       "    <tr>\n",
       "      <th>2</th>\n",
       "      <td>2</td>\n",
       "      <td>welcome</td>\n",
       "      <td>greetings</td>\n",
       "    </tr>\n",
       "    <tr>\n",
       "      <th>3</th>\n",
       "      <td>3</td>\n",
       "      <td>hi!, how are you</td>\n",
       "      <td>greetings</td>\n",
       "    </tr>\n",
       "    <tr>\n",
       "      <th>4</th>\n",
       "      <td>4</td>\n",
       "      <td>Hi there !!</td>\n",
       "      <td>greetings</td>\n",
       "    </tr>\n",
       "  </tbody>\n",
       "</table>\n",
       "</div>"
      ],
      "text/plain": [
       "   Unnamed: 0              text     intent\n",
       "0           0       hello there  greetings\n",
       "1           1      good morning  greetings\n",
       "2           2           welcome  greetings\n",
       "3           3  hi!, how are you  greetings\n",
       "4           4       Hi there !!  greetings"
      ]
     },
     "execution_count": 1,
     "metadata": {},
     "output_type": "execute_result"
    }
   ],
   "source": [
    "import spacy\n",
    "import pandas as pd\n",
    "import numpy as np\n",
    "\n",
    "nlp = spacy.load(\"en_core_web_md\")\n",
    "dataset = pd.read_csv(\"../../data/chatbot-data.tsv\", sep=\"\\t\")\n",
    "dataset.head()"
   ]
  },
  {
   "cell_type": "code",
   "execution_count": 2,
   "metadata": {
    "ExecuteTime": {
     "end_time": "2021-11-10T22:40:54.466348Z",
     "start_time": "2021-11-10T22:40:54.463419Z"
    }
   },
   "outputs": [],
   "source": [
    "def get_longest_sequence(texts):\n",
    "    longest_input = 0\n",
    "    for text in texts:\n",
    "        text_len= len(text)\n",
    "        longest_input = max(longest_input, text_len)\n",
    "    return longest_input"
   ]
  },
  {
   "cell_type": "code",
   "execution_count": 3,
   "metadata": {
    "ExecuteTime": {
     "end_time": "2021-11-10T22:40:54.474476Z",
     "start_time": "2021-11-10T22:40:54.468038Z"
    }
   },
   "outputs": [
    {
     "data": {
      "text/plain": [
       "57"
      ]
     },
     "execution_count": 3,
     "metadata": {},
     "output_type": "execute_result"
    }
   ],
   "source": [
    "longest_seq = get_longest_sequence(dataset['text'])\n",
    "longest_seq"
   ]
  },
  {
   "cell_type": "code",
   "execution_count": 4,
   "metadata": {
    "ExecuteTime": {
     "end_time": "2021-11-10T22:40:54.483196Z",
     "start_time": "2021-11-10T22:40:54.476016Z"
    }
   },
   "outputs": [
    {
     "data": {
      "text/plain": [
       "62"
      ]
     },
     "execution_count": 4,
     "metadata": {},
     "output_type": "execute_result"
    }
   ],
   "source": [
    "from collections import defaultdict\n",
    "import string\n",
    "\n",
    "# let's see how many unique characters we have!\n",
    "unique_chars = len(string.ascii_letters+string.digits)\n",
    "unique_chars"
   ]
  },
  {
   "cell_type": "markdown",
   "metadata": {},
   "source": [
    "There are some special characters"
   ]
  },
  {
   "cell_type": "code",
   "execution_count": 5,
   "metadata": {
    "ExecuteTime": {
     "end_time": "2021-11-10T22:40:54.488443Z",
     "start_time": "2021-11-10T22:40:54.485027Z"
    }
   },
   "outputs": [],
   "source": [
    "char2idx = defaultdict(lambda:0)\n",
    "\n",
    "for idx, char in enumerate(string.ascii_letters+string.digits, 1):\n",
    "    char2idx[char] = idx"
   ]
  },
  {
   "cell_type": "code",
   "execution_count": 6,
   "metadata": {
    "ExecuteTime": {
     "end_time": "2021-11-10T22:40:54.496295Z",
     "start_time": "2021-11-10T22:40:54.489904Z"
    }
   },
   "outputs": [
    {
     "data": {
      "text/plain": [
       "0"
      ]
     },
     "execution_count": 6,
     "metadata": {},
     "output_type": "execute_result"
    }
   ],
   "source": [
    "char2idx['س']"
   ]
  },
  {
   "cell_type": "code",
   "execution_count": 9,
   "metadata": {
    "ExecuteTime": {
     "end_time": "2021-11-07T22:44:47.353429Z",
     "start_time": "2021-11-07T22:44:47.343364Z"
    }
   },
   "outputs": [
    {
     "data": {
      "text/plain": [
       "1"
      ]
     },
     "execution_count": 9,
     "metadata": {},
     "output_type": "execute_result"
    }
   ],
   "source": [
    "char2idx['a']"
   ]
  },
  {
   "cell_type": "markdown",
   "metadata": {},
   "source": [
    "Now prepare your data"
   ]
  },
  {
   "cell_type": "code",
   "execution_count": 7,
   "metadata": {
    "ExecuteTime": {
     "end_time": "2021-11-10T22:40:59.752793Z",
     "start_time": "2021-11-10T22:40:59.748597Z"
    }
   },
   "outputs": [],
   "source": [
    "def encode_text(text):\n",
    "    text_v = np.zeros((longest_seq, unique_chars))\n",
    "    for i, char in enumerate(text):\n",
    "        if i<longest_seq:\n",
    "            text_v[i, char2idx[char]] = 1\n",
    "    return text_v"
   ]
  },
  {
   "cell_type": "code",
   "execution_count": 8,
   "metadata": {
    "ExecuteTime": {
     "end_time": "2021-11-10T22:41:02.058707Z",
     "start_time": "2021-11-10T22:41:02.053841Z"
    }
   },
   "outputs": [
    {
     "data": {
      "text/plain": [
       "array([[0., 1., 0., ..., 0., 0., 0.],\n",
       "       [0., 0., 1., ..., 0., 0., 0.],\n",
       "       [0., 0., 0., ..., 0., 0., 0.],\n",
       "       ...,\n",
       "       [0., 0., 0., ..., 0., 0., 0.],\n",
       "       [0., 0., 0., ..., 0., 0., 0.],\n",
       "       [0., 0., 0., ..., 0., 0., 0.]])"
      ]
     },
     "execution_count": 8,
     "metadata": {},
     "output_type": "execute_result"
    }
   ],
   "source": [
    "encode_text(\"abcd\")"
   ]
  },
  {
   "cell_type": "code",
   "execution_count": 9,
   "metadata": {
    "ExecuteTime": {
     "end_time": "2021-11-10T22:41:18.893169Z",
     "start_time": "2021-11-10T22:41:18.890103Z"
    }
   },
   "outputs": [],
   "source": [
    "def encode_texts(texts):\n",
    "    text_v = np.zeros((len(texts), longest_seq, unique_chars))\n",
    "    for i, text in enumerate(texts):\n",
    "        text_v[i] = encode_text(text)\n",
    "    return text_v"
   ]
  },
  {
   "cell_type": "code",
   "execution_count": 10,
   "metadata": {
    "ExecuteTime": {
     "end_time": "2021-11-10T22:41:22.032180Z",
     "start_time": "2021-11-10T22:41:22.028845Z"
    }
   },
   "outputs": [],
   "source": [
    "x_encoded = encode_texts(dataset['text'])"
   ]
  },
  {
   "cell_type": "code",
   "execution_count": 11,
   "metadata": {
    "ExecuteTime": {
     "end_time": "2021-11-10T22:41:22.582987Z",
     "start_time": "2021-11-10T22:41:22.573198Z"
    }
   },
   "outputs": [
    {
     "data": {
      "text/plain": [
       "(35, 57, 62)"
      ]
     },
     "execution_count": 11,
     "metadata": {},
     "output_type": "execute_result"
    }
   ],
   "source": [
    "x_encoded.shape"
   ]
  },
  {
   "cell_type": "code",
   "execution_count": 12,
   "metadata": {
    "ExecuteTime": {
     "end_time": "2021-11-10T22:41:26.914899Z",
     "start_time": "2021-11-10T22:41:25.292708Z"
    }
   },
   "outputs": [],
   "source": [
    "# encode the y matrix also\n",
    "# prepare y\n",
    "from sklearn.preprocessing import LabelEncoder\n",
    "from tensorflow.keras.utils import to_categorical\n",
    "\n",
    "encoder = LabelEncoder()\n",
    "y_encoded = encoder.fit_transform(dataset['intent'])\n",
    "y_encoded = to_categorical(y_encoded)"
   ]
  },
  {
   "cell_type": "markdown",
   "metadata": {},
   "source": [
    "now let's build the model"
   ]
  },
  {
   "cell_type": "code",
   "execution_count": 13,
   "metadata": {
    "ExecuteTime": {
     "end_time": "2021-11-10T22:45:44.002883Z",
     "start_time": "2021-11-10T22:45:43.324658Z"
    }
   },
   "outputs": [],
   "source": [
    "import tensorflow as tf\n",
    "\n",
    "# define the network\n",
    "inputs = tf.keras.layers.Input((longest_seq, unique_chars))\n",
    "reshaped = tf.keras.layers.Reshape((longest_seq, unique_chars, 1))(inputs)\n",
    "\n",
    "\n",
    "filters_1 = [7, 5]\n",
    "filters_2 = [3, 2]\n",
    "\n",
    "# define the first convnets\n",
    "convs_1 = []\n",
    "for filter_size in filters_1:\n",
    "    conv = tf.keras.layers.Conv2D(50, (filter_size, unique_chars), activation='relu')(reshaped)\n",
    "    pool = tf.keras.layers.MaxPooling2D((filter_size, 1), strides=(1,1))(conv)\n",
    "    convs_1.append(pool)\n",
    "    \n",
    "# concatenate the convs\n",
    "character_level_features = tf.keras.layers.concatenate(convs_1, axis=1)\n",
    "\n",
    "# define the second convnets\n",
    "convs_2 = []\n",
    "for filter_size in filters_2:\n",
    "    conv = tf.keras.layers.Conv2D(100, (filter_size, 1), activation='relu')(character_level_features)\n",
    "    pool = tf.keras.layers.MaxPooling2D((filter_size, 1), strides=(1,1))(conv)\n",
    "    convs_2.append(pool)\n",
    "\n",
    "# merge again \n",
    "word_level_features = tf.keras.layers.concatenate(convs_2, axis=1)\n",
    "\n",
    "# now flatten them and add a dense layer\n",
    "flatten = tf.keras.layers.Flatten()(word_level_features)\n",
    "\n",
    "# add a dense layer\n",
    "clf = tf.keras.layers.Dense(100, activation='relu')(flatten)\n",
    "\n",
    "# add final output\n",
    "clf = tf.keras.layers.Dense(len(encoder.classes_), activation='softmax')(clf)"
   ]
  },
  {
   "cell_type": "code",
   "execution_count": 14,
   "metadata": {
    "ExecuteTime": {
     "end_time": "2021-11-10T22:45:44.043975Z",
     "start_time": "2021-11-10T22:45:44.004462Z"
    }
   },
   "outputs": [
    {
     "name": "stdout",
     "output_type": "stream",
     "text": [
      "Model: \"model\"\n",
      "__________________________________________________________________________________________________\n",
      " Layer (type)                   Output Shape         Param #     Connected to                     \n",
      "==================================================================================================\n",
      " input_1 (InputLayer)           [(None, 57, 62)]     0           []                               \n",
      "                                                                                                  \n",
      " reshape (Reshape)              (None, 57, 62, 1)    0           ['input_1[0][0]']                \n",
      "                                                                                                  \n",
      " conv2d (Conv2D)                (None, 51, 1, 50)    21750       ['reshape[0][0]']                \n",
      "                                                                                                  \n",
      " conv2d_1 (Conv2D)              (None, 53, 1, 50)    15550       ['reshape[0][0]']                \n",
      "                                                                                                  \n",
      " max_pooling2d (MaxPooling2D)   (None, 45, 1, 50)    0           ['conv2d[0][0]']                 \n",
      "                                                                                                  \n",
      " max_pooling2d_1 (MaxPooling2D)  (None, 49, 1, 50)   0           ['conv2d_1[0][0]']               \n",
      "                                                                                                  \n",
      " concatenate (Concatenate)      (None, 94, 1, 50)    0           ['max_pooling2d[0][0]',          \n",
      "                                                                  'max_pooling2d_1[0][0]']        \n",
      "                                                                                                  \n",
      " conv2d_2 (Conv2D)              (None, 92, 1, 100)   15100       ['concatenate[0][0]']            \n",
      "                                                                                                  \n",
      " conv2d_3 (Conv2D)              (None, 93, 1, 100)   10100       ['concatenate[0][0]']            \n",
      "                                                                                                  \n",
      " max_pooling2d_2 (MaxPooling2D)  (None, 90, 1, 100)  0           ['conv2d_2[0][0]']               \n",
      "                                                                                                  \n",
      " max_pooling2d_3 (MaxPooling2D)  (None, 92, 1, 100)  0           ['conv2d_3[0][0]']               \n",
      "                                                                                                  \n",
      " concatenate_1 (Concatenate)    (None, 182, 1, 100)  0           ['max_pooling2d_2[0][0]',        \n",
      "                                                                  'max_pooling2d_3[0][0]']        \n",
      "                                                                                                  \n",
      " flatten (Flatten)              (None, 18200)        0           ['concatenate_1[0][0]']          \n",
      "                                                                                                  \n",
      " dense (Dense)                  (None, 100)          1820100     ['flatten[0][0]']                \n",
      "                                                                                                  \n",
      " dense_1 (Dense)                (None, 7)            707         ['dense[0][0]']                  \n",
      "                                                                                                  \n",
      "==================================================================================================\n",
      "Total params: 1,883,307\n",
      "Trainable params: 1,883,307\n",
      "Non-trainable params: 0\n",
      "__________________________________________________________________________________________________\n"
     ]
    }
   ],
   "source": [
    "# compile the model\n",
    "model = tf.keras.models.Model(inputs, clf)\n",
    "model.compile(loss='categorical_crossentropy', optimizer='adam', metrics=['acc'])\n",
    "model.summary()"
   ]
  },
  {
   "cell_type": "code",
   "execution_count": 15,
   "metadata": {
    "ExecuteTime": {
     "end_time": "2021-11-10T22:45:44.219140Z",
     "start_time": "2021-11-10T22:45:44.045867Z"
    }
   },
   "outputs": [
    {
     "data": {
      "image/png": "[encoded data removed]",
      "text/plain": [
       "<IPython.core.display.Image object>"
      ]
     },
     "execution_count": 15,
     "metadata": {},
     "output_type": "execute_result"
    }
   ],
   "source": [
    "tf.keras.utils.plot_model(\n",
    "    model, show_shapes=False, show_layer_names=True,\n",
    "    rankdir='TB', expand_nested=False, dpi=96\n",
    ")"
   ]
  },
  {
   "cell_type": "code",
   "execution_count": 16,
   "metadata": {
    "ExecuteTime": {
     "end_time": "2021-11-10T22:45:47.869207Z",
     "start_time": "2021-11-10T22:45:47.825226Z"
    }
   },
   "outputs": [],
   "source": [
    "# let's split the data and train our model\n",
    "from sklearn.model_selection import train_test_split\n",
    "\n",
    "x_train, x_test, y_train, y_test = train_test_split(x_encoded, y_encoded, test_size=.2)"
   ]
  },
  {
   "cell_type": "code",
   "execution_count": 17,
   "metadata": {
    "ExecuteTime": {
     "end_time": "2021-11-10T22:45:48.549116Z",
     "start_time": "2021-11-10T22:45:48.535970Z"
    }
   },
   "outputs": [
    {
     "data": {
      "text/plain": [
       "array([[[0., 0., 0., ..., 0., 0., 0.],\n",
       "        [0., 0., 0., ..., 0., 0., 0.],\n",
       "        [1., 0., 0., ..., 0., 0., 0.],\n",
       "        ...,\n",
       "        [0., 0., 0., ..., 0., 0., 0.],\n",
       "        [0., 0., 0., ..., 0., 0., 0.],\n",
       "        [0., 0., 0., ..., 0., 0., 0.]],\n",
       "\n",
       "       [[0., 0., 0., ..., 0., 0., 0.],\n",
       "        [0., 0., 0., ..., 0., 0., 0.],\n",
       "        [0., 1., 0., ..., 0., 0., 0.],\n",
       "        ...,\n",
       "        [0., 0., 0., ..., 0., 0., 0.],\n",
       "        [0., 0., 0., ..., 0., 0., 0.],\n",
       "        [0., 0., 0., ..., 0., 0., 0.]],\n",
       "\n",
       "       [[0., 0., 0., ..., 0., 0., 0.],\n",
       "        [0., 0., 0., ..., 0., 0., 0.],\n",
       "        [1., 0., 0., ..., 0., 0., 0.],\n",
       "        ...,\n",
       "        [0., 0., 0., ..., 0., 0., 0.],\n",
       "        [0., 0., 0., ..., 0., 0., 0.],\n",
       "        [0., 0., 0., ..., 0., 0., 0.]]])"
      ]
     },
     "execution_count": 17,
     "metadata": {},
     "output_type": "execute_result"
    }
   ],
   "source": [
    "x_train[:3]"
   ]
  },
  {
   "cell_type": "code",
   "execution_count": 18,
   "metadata": {
    "ExecuteTime": {
     "end_time": "2021-11-10T22:45:52.224667Z",
     "start_time": "2021-11-10T22:45:50.053268Z"
    },
    "scrolled": false
   },
   "outputs": [
    {
     "name": "stdout",
     "output_type": "stream",
     "text": [
      "Epoch 1/23\n",
      "WARNING:tensorflow:AutoGraph could not transform <function Model.make_train_function.<locals>.train_function at 0x7f05a0417830> and will run it as-is.\n",
      "Please report this to the TensorFlow team. When filing the bug, set the verbosity to 10 (on Linux, `export AUTOGRAPH_VERBOSITY=10`) and attach the full output.\n",
      "Cause: 'arguments' object has no attribute 'posonlyargs'\n",
      "To silence this warning, decorate the function with @tf.autograph.experimental.do_not_convert\n",
      "WARNING: AutoGraph could not transform <function Model.make_train_function.<locals>.train_function at 0x7f05a0417830> and will run it as-is.\n",
      "Please report this to the TensorFlow team. When filing the bug, set the verbosity to 10 (on Linux, `export AUTOGRAPH_VERBOSITY=10`) and attach the full output.\n",
      "Cause: 'arguments' object has no attribute 'posonlyargs'\n",
      "To silence this warning, decorate the function with @tf.autograph.experimental.do_not_convert\n",
      "1/1 [==============================] - 2s 2s/step - loss: 1.9461 - acc: 0.1786\n",
      "Epoch 2/23\n",
      "1/1 [==============================] - 0s 9ms/step - loss: 1.8146 - acc: 0.1786\n",
      "Epoch 3/23\n",
      "1/1 [==============================] - 0s 8ms/step - loss: 1.6701 - acc: 0.3214\n",
      "Epoch 4/23\n",
      "1/1 [==============================] - 0s 8ms/step - loss: 1.5172 - acc: 0.5714\n",
      "Epoch 5/23\n",
      "1/1 [==============================] - 0s 10ms/step - loss: 1.3424 - acc: 0.6429\n",
      "Epoch 6/23\n",
      "1/1 [==============================] - 0s 13ms/step - loss: 1.1528 - acc: 0.7500\n",
      "Epoch 7/23\n",
      "1/1 [==============================] - 0s 11ms/step - loss: 0.9575 - acc: 0.7857\n",
      "Epoch 8/23\n",
      "1/1 [==============================] - 0s 14ms/step - loss: 0.7749 - acc: 0.7857\n",
      "Epoch 9/23\n",
      "1/1 [==============================] - 0s 11ms/step - loss: 0.6025 - acc: 0.8214\n",
      "Epoch 10/23\n",
      "1/1 [==============================] - 0s 8ms/step - loss: 0.4512 - acc: 0.8929\n",
      "Epoch 11/23\n",
      "1/1 [==============================] - 0s 11ms/step - loss: 0.3336 - acc: 0.9286\n",
      "Epoch 12/23\n",
      "1/1 [==============================] - 0s 10ms/step - loss: 0.2403 - acc: 0.9643\n",
      "Epoch 13/23\n",
      "1/1 [==============================] - 0s 12ms/step - loss: 0.1711 - acc: 1.0000\n",
      "Epoch 14/23\n",
      "1/1 [==============================] - 0s 8ms/step - loss: 0.1188 - acc: 1.0000\n",
      "Epoch 15/23\n",
      "1/1 [==============================] - 0s 7ms/step - loss: 0.0801 - acc: 1.0000\n",
      "Epoch 16/23\n",
      "1/1 [==============================] - 0s 9ms/step - loss: 0.0539 - acc: 1.0000\n",
      "Epoch 17/23\n",
      "1/1 [==============================] - 0s 10ms/step - loss: 0.0357 - acc: 1.0000\n",
      "Epoch 18/23\n",
      "1/1 [==============================] - 0s 8ms/step - loss: 0.0222 - acc: 1.0000\n",
      "Epoch 19/23\n",
      "1/1 [==============================] - 0s 9ms/step - loss: 0.0130 - acc: 1.0000\n",
      "Epoch 20/23\n",
      "1/1 [==============================] - 0s 10ms/step - loss: 0.0078 - acc: 1.0000\n",
      "Epoch 21/23\n",
      "1/1 [==============================] - 0s 7ms/step - loss: 0.0051 - acc: 1.0000\n",
      "Epoch 22/23\n",
      "1/1 [==============================] - 0s 9ms/step - loss: 0.0035 - acc: 1.0000\n",
      "Epoch 23/23\n",
      "1/1 [==============================] - 0s 12ms/step - loss: 0.0024 - acc: 1.0000\n"
     ]
    },
    {
     "data": {
      "text/plain": [
       "<keras.callbacks.History at 0x7f05a03dd2d0>"
      ]
     },
     "execution_count": 18,
     "metadata": {},
     "output_type": "execute_result"
    }
   ],
   "source": [
    "# train our model\n",
    "model.fit(x_train, y_train, epochs=23)"
   ]
  },
  {
   "cell_type": "code",
   "execution_count": 19,
   "metadata": {
    "ExecuteTime": {
     "end_time": "2021-11-10T22:45:52.544827Z",
     "start_time": "2021-11-10T22:45:52.226047Z"
    }
   },
   "outputs": [
    {
     "name": "stdout",
     "output_type": "stream",
     "text": [
      "WARNING:tensorflow:AutoGraph could not transform <function Model.make_test_function.<locals>.test_function at 0x7f05a00e5e60> and will run it as-is.\n",
      "Please report this to the TensorFlow team. When filing the bug, set the verbosity to 10 (on Linux, `export AUTOGRAPH_VERBOSITY=10`) and attach the full output.\n",
      "Cause: 'arguments' object has no attribute 'posonlyargs'\n",
      "To silence this warning, decorate the function with @tf.autograph.experimental.do_not_convert\n",
      "WARNING: AutoGraph could not transform <function Model.make_test_function.<locals>.test_function at 0x7f05a00e5e60> and will run it as-is.\n",
      "Please report this to the TensorFlow team. When filing the bug, set the verbosity to 10 (on Linux, `export AUTOGRAPH_VERBOSITY=10`) and attach the full output.\n",
      "Cause: 'arguments' object has no attribute 'posonlyargs'\n",
      "To silence this warning, decorate the function with @tf.autograph.experimental.do_not_convert\n",
      "1/1 [==============================] - 0s 277ms/step - loss: 2.4916 - acc: 0.1429\n"
     ]
    },
    {
     "data": {
      "text/plain": [
       "[2.491609811782837, 0.1428571492433548]"
      ]
     },
     "execution_count": 19,
     "metadata": {},
     "output_type": "execute_result"
    }
   ],
   "source": [
    "model.evaluate(x_test, y_test)"
   ]
  },
  {
   "cell_type": "code",
   "execution_count": 20,
   "metadata": {
    "ExecuteTime": {
     "end_time": "2021-11-10T22:45:52.549929Z",
     "start_time": "2021-11-10T22:45:52.546291Z"
    }
   },
   "outputs": [
    {
     "data": {
      "text/plain": [
       "'reserve_enq'"
      ]
     },
     "execution_count": 20,
     "metadata": {},
     "output_type": "execute_result"
    }
   ],
   "source": [
    "encoder.classes_[4]"
   ]
  },
  {
   "cell_type": "code",
   "execution_count": 21,
   "metadata": {
    "ExecuteTime": {
     "end_time": "2021-11-10T22:45:52.558777Z",
     "start_time": "2021-11-10T22:45:52.551795Z"
    }
   },
   "outputs": [],
   "source": [
    "def predict_char_embd(text):\n",
    "    text_v = np.zeros((1, longest_seq, unique_chars))\n",
    "    for i, token in enumerate(text):\n",
    "        if i>longest_seq:\n",
    "            break\n",
    "        text_v[0, i] = char2idx[token]\n",
    "    # predict the input \n",
    "    prediction = model.predict(text_v)\n",
    "    label = encoder.classes_[np.argmax(prediction)]\n",
    "    return label"
   ]
  },
  {
   "cell_type": "code",
   "execution_count": 24,
   "metadata": {
    "ExecuteTime": {
     "end_time": "2021-11-10T22:45:56.741011Z",
     "start_time": "2021-11-10T22:45:56.677991Z"
    }
   },
   "outputs": [
    {
     "data": {
      "text/plain": [
       "'availability_enq'"
      ]
     },
     "execution_count": 24,
     "metadata": {},
     "output_type": "execute_result"
    }
   ],
   "source": [
    "predict_char_embd(\"how mcuh for the french course ?\")"
   ]
  }
 ],
 "metadata": {
  "kernelspec": {
   "display_name": "Python 3",
   "language": "python",
   "name": "python3"
  },
  "language_info": {
   "codemirror_mode": {
    "name": "ipython",
    "version": 3
   },
   "file_extension": ".py",
   "mimetype": "text/x-python",
   "name": "python",
   "nbconvert_exporter": "python",
   "pygments_lexer": "ipython3",
   "version": "3.8.5"
  }
 },
 "nbformat": 4,
 "nbformat_minor": 2
}
