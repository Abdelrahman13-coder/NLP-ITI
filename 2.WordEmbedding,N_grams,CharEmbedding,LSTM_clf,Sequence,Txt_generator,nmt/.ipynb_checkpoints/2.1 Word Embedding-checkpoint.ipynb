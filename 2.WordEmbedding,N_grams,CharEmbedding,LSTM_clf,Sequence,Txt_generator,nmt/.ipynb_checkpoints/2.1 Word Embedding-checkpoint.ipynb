{
 "cells": [
  {
   "cell_type": "markdown",
   "metadata": {
    "id": "KsOrUedrzffl"
   },
   "source": [
    "<h1 align=center>Word Embeddings Tutorial</h1>\n",
    "\n",
    "In this notebook we will go through word embeddings using deep learning, we will not train a new model we will use pre-trained ones as training a new one will cost a lot.\n",
    "\n",
    "We will be using `spacy` in this tutorial to demonstrate word embeddings"
   ]
  },
  {
   "cell_type": "markdown",
   "metadata": {
    "id": "f7_I_pR8zffp"
   },
   "source": [
    "Update pip tools and install spacy\n",
    "\n",
    "`pip install -U pip setuptools wheel`\n",
    "\n",
    "`pip install -U spacy`\n",
    "\n",
    "Download the English model\n",
    "\n",
    "`python -m spacy download en_core_web_md`"
   ]
  },
  {
   "cell_type": "code",
   "execution_count": 1,
   "metadata": {
    "colab": {
     "base_uri": "https://localhost:8080/",
     "height": 1000
    },
    "executionInfo": {
     "elapsed": 23391,
     "status": "ok",
     "timestamp": 1656582170682,
     "user": {
      "displayName": "Wssam Hassan",
      "userId": "16924058918477820692"
     },
     "user_tz": -120
    },
    "id": "nqQ5teO3zsiO",
    "outputId": "afd45ad9-4ef8-4f51-cc80-da32ed2043b5"
   },
   "outputs": [
    {
     "name": "stdout",
     "output_type": "stream",
     "text": [
      "Looking in indexes: https://pypi.org/simple, https://us-python.pkg.dev/colab-wheels/public/simple/\n",
      "Requirement already satisfied: pip in /usr/local/lib/python3.7/dist-packages (21.1.3)\n",
      "Collecting pip\n",
      "  Downloading pip-22.1.2-py3-none-any.whl (2.1 MB)\n",
      "\u001b[K     |████████████████████████████████| 2.1 MB 33.1 MB/s \n",
      "\u001b[?25hRequirement already satisfied: setuptools in /usr/local/lib/python3.7/dist-packages (57.4.0)\n",
      "Collecting setuptools\n",
      "  Downloading setuptools-62.6.0-py3-none-any.whl (1.2 MB)\n",
      "\u001b[K     |████████████████████████████████| 1.2 MB 56.8 MB/s \n",
      "\u001b[?25hRequirement already satisfied: wheel in /usr/local/lib/python3.7/dist-packages (0.37.1)\n",
      "Installing collected packages: setuptools, pip\n",
      "  Attempting uninstall: setuptools\n",
      "    Found existing installation: setuptools 57.4.0\n",
      "    Uninstalling setuptools-57.4.0:\n",
      "      Successfully uninstalled setuptools-57.4.0\n",
      "  Attempting uninstall: pip\n",
      "    Found existing installation: pip 21.1.3\n",
      "    Uninstalling pip-21.1.3:\n",
      "      Successfully uninstalled pip-21.1.3\n",
      "\u001b[31mERROR: pip's dependency resolver does not currently take into account all the packages that are installed. This behaviour is the source of the following dependency conflicts.\n",
      "datascience 0.10.6 requires folium==0.2.1, but you have folium 0.8.3 which is incompatible.\u001b[0m\n",
      "Successfully installed pip-22.1.2 setuptools-62.6.0\n"
     ]
    },
    {
     "data": {
      "application/vnd.colab-display-data+json": {
       "pip_warning": {
        "packages": [
         "pkg_resources"
        ]
       }
      }
     },
     "metadata": {},
     "output_type": "display_data"
    },
    {
     "name": "stdout",
     "output_type": "stream",
     "text": [
      "Looking in indexes: https://pypi.org/simple, https://us-python.pkg.dev/colab-wheels/public/simple/\n",
      "Requirement already satisfied: spacy in /usr/local/lib/python3.7/dist-packages (3.3.1)\n",
      "Requirement already satisfied: wasabi<1.1.0,>=0.9.1 in /usr/local/lib/python3.7/dist-packages (from spacy) (0.9.1)\n",
      "Requirement already satisfied: cymem<2.1.0,>=2.0.2 in /usr/local/lib/python3.7/dist-packages (from spacy) (2.0.6)\n",
      "Requirement already satisfied: tqdm<5.0.0,>=4.38.0 in /usr/local/lib/python3.7/dist-packages (from spacy) (4.64.0)\n",
      "Requirement already satisfied: typer<0.5.0,>=0.3.0 in /usr/local/lib/python3.7/dist-packages (from spacy) (0.4.1)\n",
      "Requirement already satisfied: preshed<3.1.0,>=3.0.2 in /usr/local/lib/python3.7/dist-packages (from spacy) (3.0.6)\n",
      "Requirement already satisfied: pathy>=0.3.5 in /usr/local/lib/python3.7/dist-packages (from spacy) (0.6.1)\n",
      "Requirement already satisfied: typing-extensions<4.2.0,>=3.7.4 in /usr/local/lib/python3.7/dist-packages (from spacy) (4.1.1)\n",
      "Requirement already satisfied: packaging>=20.0 in /usr/local/lib/python3.7/dist-packages (from spacy) (21.3)\n",
      "Requirement already satisfied: spacy-legacy<3.1.0,>=3.0.9 in /usr/local/lib/python3.7/dist-packages (from spacy) (3.0.9)\n",
      "Requirement already satisfied: setuptools in /usr/local/lib/python3.7/dist-packages (from spacy) (62.6.0)\n",
      "Requirement already satisfied: jinja2 in /usr/local/lib/python3.7/dist-packages (from spacy) (2.11.3)\n",
      "Requirement already satisfied: murmurhash<1.1.0,>=0.28.0 in /usr/local/lib/python3.7/dist-packages (from spacy) (1.0.7)\n",
      "Requirement already satisfied: numpy>=1.15.0 in /usr/local/lib/python3.7/dist-packages (from spacy) (1.21.6)\n",
      "Requirement already satisfied: thinc<8.1.0,>=8.0.14 in /usr/local/lib/python3.7/dist-packages (from spacy) (8.0.17)\n",
      "Requirement already satisfied: catalogue<2.1.0,>=2.0.6 in /usr/local/lib/python3.7/dist-packages (from spacy) (2.0.7)\n",
      "Requirement already satisfied: blis<0.8.0,>=0.4.0 in /usr/local/lib/python3.7/dist-packages (from spacy) (0.7.7)\n",
      "Requirement already satisfied: spacy-loggers<2.0.0,>=1.0.0 in /usr/local/lib/python3.7/dist-packages (from spacy) (1.0.2)\n",
      "Requirement already satisfied: langcodes<4.0.0,>=3.2.0 in /usr/local/lib/python3.7/dist-packages (from spacy) (3.3.0)\n",
      "Requirement already satisfied: requests<3.0.0,>=2.13.0 in /usr/local/lib/python3.7/dist-packages (from spacy) (2.23.0)\n",
      "Requirement already satisfied: srsly<3.0.0,>=2.4.3 in /usr/local/lib/python3.7/dist-packages (from spacy) (2.4.3)\n",
      "Requirement already satisfied: pydantic!=1.8,!=1.8.1,<1.9.0,>=1.7.4 in /usr/local/lib/python3.7/dist-packages (from spacy) (1.8.2)\n",
      "Requirement already satisfied: zipp>=0.5 in /usr/local/lib/python3.7/dist-packages (from catalogue<2.1.0,>=2.0.6->spacy) (3.8.0)\n",
      "Requirement already satisfied: pyparsing!=3.0.5,>=2.0.2 in /usr/local/lib/python3.7/dist-packages (from packaging>=20.0->spacy) (3.0.9)\n",
      "Requirement already satisfied: smart-open<6.0.0,>=5.0.0 in /usr/local/lib/python3.7/dist-packages (from pathy>=0.3.5->spacy) (5.2.1)\n",
      "Requirement already satisfied: certifi>=2017.4.17 in /usr/local/lib/python3.7/dist-packages (from requests<3.0.0,>=2.13.0->spacy) (2022.6.15)\n",
      "Requirement already satisfied: urllib3!=1.25.0,!=1.25.1,<1.26,>=1.21.1 in /usr/local/lib/python3.7/dist-packages (from requests<3.0.0,>=2.13.0->spacy) (1.24.3)\n",
      "Requirement already satisfied: chardet<4,>=3.0.2 in /usr/local/lib/python3.7/dist-packages (from requests<3.0.0,>=2.13.0->spacy) (3.0.4)\n",
      "Requirement already satisfied: idna<3,>=2.5 in /usr/local/lib/python3.7/dist-packages (from requests<3.0.0,>=2.13.0->spacy) (2.10)\n",
      "Requirement already satisfied: click<9.0.0,>=7.1.1 in /usr/local/lib/python3.7/dist-packages (from typer<0.5.0,>=0.3.0->spacy) (7.1.2)\n",
      "Requirement already satisfied: MarkupSafe>=0.23 in /usr/local/lib/python3.7/dist-packages (from jinja2->spacy) (2.0.1)\n",
      "\u001b[33mWARNING: Running pip as the 'root' user can result in broken permissions and conflicting behaviour with the system package manager. It is recommended to use a virtual environment instead: https://pip.pypa.io/warnings/venv\u001b[0m\u001b[33m\n",
      "\u001b[0m"
     ]
    }
   ],
   "source": [
    "! pip install -U pip setuptools wheel\n",
    "! pip install -U spacy"
   ]
  },
  {
   "cell_type": "code",
   "execution_count": 2,
   "metadata": {
    "colab": {
     "base_uri": "https://localhost:8080/"
    },
    "executionInfo": {
     "elapsed": 4218,
     "status": "ok",
     "timestamp": 1656582196248,
     "user": {
      "displayName": "Wssam Hassan",
      "userId": "16924058918477820692"
     },
     "user_tz": -120
    },
    "id": "CeoimCxZ0c1x",
    "outputId": "8227a3b8-dd07-4ef8-d744-67cea9864f21"
   },
   "outputs": [
    {
     "name": "stdout",
     "output_type": "stream",
     "text": [
      "Installing collected packages: en-core-web-md\n",
      "Successfully installed en-core-web-md-3.3.0\n",
      "\u001b[33mWARNING: Running pip as the 'root' user can result in broken permissions and conflicting behaviour with the system package manager. It is recommended to use a virtual environment instead: https://pip.pypa.io/warnings/venv\u001b[0m\u001b[33m\n",
      "\u001b[0m\u001b[38;5;2m✔ Download and installation successful\u001b[0m\n",
      "You can now load the package via spacy.load('en_core_web_md')\n"
     ]
    }
   ],
   "source": [
    "! python -m spacy download en_core_web_md"
   ]
  },
  {
   "cell_type": "code",
   "execution_count": 3,
   "metadata": {
    "ExecuteTime": {
     "end_time": "2021-11-07T22:19:17.436827Z",
     "start_time": "2021-11-07T22:19:02.594935Z"
    },
    "executionInfo": {
     "elapsed": 6766,
     "status": "ok",
     "timestamp": 1656582228672,
     "user": {
      "displayName": "Wssam Hassan",
      "userId": "16924058918477820692"
     },
     "user_tz": -120
    },
    "id": "6NJzNR5Dzffs"
   },
   "outputs": [],
   "source": [
    "import spacy\n",
    "import pandas as pd\n",
    "import seaborn as sns\n",
    "from sklearn.metrics.pairwise import cosine_similarity, cosine_distances\n",
    "\n",
    "cm = sns.light_palette(\"blue\", as_cmap=True)\n",
    "nlp = spacy.load('en_core_web_md')"
   ]
  },
  {
   "cell_type": "code",
   "execution_count": 6,
   "metadata": {
    "ExecuteTime": {
     "end_time": "2021-11-07T21:43:21.214084Z",
     "start_time": "2021-11-07T21:43:21.069549Z"
    },
    "executionInfo": {
     "elapsed": 1647,
     "status": "ok",
     "timestamp": 1656582303051,
     "user": {
      "displayName": "Wssam Hassan",
      "userId": "16924058918477820692"
     },
     "user_tz": -120
    },
    "id": "J4GA19KDzffv"
   },
   "outputs": [],
   "source": [
    "words = ['cat', 'dog', 'car', 'bird', 'eagle', 'milk', 'fly']\n",
    "vectors = [nlp(word).vector for word in words]"
   ]
  },
  {
   "cell_type": "code",
   "execution_count": 7,
   "metadata": {
    "ExecuteTime": {
     "end_time": "2021-11-07T21:43:22.239978Z",
     "start_time": "2021-11-07T21:43:22.220166Z"
    },
    "colab": {
     "base_uri": "https://localhost:8080/",
     "height": 269
    },
    "executionInfo": {
     "elapsed": 13,
     "status": "ok",
     "timestamp": 1656582304451,
     "user": {
      "displayName": "Wssam Hassan",
      "userId": "16924058918477820692"
     },
     "user_tz": -120
    },
    "id": "blseyERjzffw",
    "outputId": "909c9434-898f-45d5-8cef-82a23734bf0f",
    "scrolled": true
   },
   "outputs": [
    {
     "data": {
      "text/html": [
       "<style type=\"text/css\">\n",
       "#T_86389_row0_col0, #T_86389_row0_col1, #T_86389_row1_col0, #T_86389_row1_col1, #T_86389_row2_col2, #T_86389_row3_col3, #T_86389_row4_col4, #T_86389_row5_col5, #T_86389_row6_col6 {\n",
       "  background-color: #0000ff;\n",
       "  color: #f1f1f1;\n",
       "}\n",
       "#T_86389_row0_col2, #T_86389_row1_col2 {\n",
       "  background-color: #d3d3f4;\n",
       "  color: #000000;\n",
       "}\n",
       "#T_86389_row0_col3, #T_86389_row1_col3, #T_86389_row3_col6 {\n",
       "  background-color: #c1c1f5;\n",
       "  color: #000000;\n",
       "}\n",
       "#T_86389_row0_col4, #T_86389_row1_col4 {\n",
       "  background-color: #c3c3f5;\n",
       "  color: #000000;\n",
       "}\n",
       "#T_86389_row0_col5, #T_86389_row1_col5 {\n",
       "  background-color: #c9c9f5;\n",
       "  color: #000000;\n",
       "}\n",
       "#T_86389_row0_col6, #T_86389_row1_col6 {\n",
       "  background-color: #e2e2f3;\n",
       "  color: #000000;\n",
       "}\n",
       "#T_86389_row2_col0, #T_86389_row2_col1, #T_86389_row2_col3, #T_86389_row2_col5, #T_86389_row3_col2, #T_86389_row4_col6, #T_86389_row6_col4 {\n",
       "  background-color: #f0f0f3;\n",
       "  color: #000000;\n",
       "}\n",
       "#T_86389_row2_col4, #T_86389_row6_col3 {\n",
       "  background-color: #b3b3f6;\n",
       "  color: #000000;\n",
       "}\n",
       "#T_86389_row2_col6 {\n",
       "  background-color: #eaeaf3;\n",
       "  color: #000000;\n",
       "}\n",
       "#T_86389_row3_col0, #T_86389_row3_col1 {\n",
       "  background-color: #dedef4;\n",
       "  color: #000000;\n",
       "}\n",
       "#T_86389_row3_col4 {\n",
       "  background-color: #e7e7f3;\n",
       "  color: #000000;\n",
       "}\n",
       "#T_86389_row3_col5, #T_86389_row5_col4 {\n",
       "  background-color: #d4d4f4;\n",
       "  color: #000000;\n",
       "}\n",
       "#T_86389_row4_col0, #T_86389_row4_col1 {\n",
       "  background-color: #cecef4;\n",
       "  color: #000000;\n",
       "}\n",
       "#T_86389_row4_col2 {\n",
       "  background-color: #a6a6f7;\n",
       "  color: #000000;\n",
       "}\n",
       "#T_86389_row4_col3 {\n",
       "  background-color: #d6d6f4;\n",
       "  color: #000000;\n",
       "}\n",
       "#T_86389_row4_col5 {\n",
       "  background-color: #dbdbf4;\n",
       "  color: #000000;\n",
       "}\n",
       "#T_86389_row5_col0, #T_86389_row5_col1 {\n",
       "  background-color: #cecef5;\n",
       "  color: #000000;\n",
       "}\n",
       "#T_86389_row5_col2 {\n",
       "  background-color: #d8d8f4;\n",
       "  color: #000000;\n",
       "}\n",
       "#T_86389_row5_col3 {\n",
       "  background-color: #bebef5;\n",
       "  color: #000000;\n",
       "}\n",
       "#T_86389_row5_col6 {\n",
       "  background-color: #d5d5f4;\n",
       "  color: #000000;\n",
       "}\n",
       "#T_86389_row6_col0, #T_86389_row6_col1 {\n",
       "  background-color: #efeff3;\n",
       "  color: #000000;\n",
       "}\n",
       "#T_86389_row6_col2 {\n",
       "  background-color: #d9d9f4;\n",
       "  color: #000000;\n",
       "}\n",
       "#T_86389_row6_col5 {\n",
       "  background-color: #dcdcf4;\n",
       "  color: #000000;\n",
       "}\n",
       "</style>\n",
       "<table id=\"T_86389_\" class=\"dataframe\">\n",
       "  <thead>\n",
       "    <tr>\n",
       "      <th class=\"blank level0\" >&nbsp;</th>\n",
       "      <th class=\"col_heading level0 col0\" >cat</th>\n",
       "      <th class=\"col_heading level0 col1\" >dog</th>\n",
       "      <th class=\"col_heading level0 col2\" >car</th>\n",
       "      <th class=\"col_heading level0 col3\" >bird</th>\n",
       "      <th class=\"col_heading level0 col4\" >eagle</th>\n",
       "      <th class=\"col_heading level0 col5\" >milk</th>\n",
       "      <th class=\"col_heading level0 col6\" >fly</th>\n",
       "    </tr>\n",
       "  </thead>\n",
       "  <tbody>\n",
       "    <tr>\n",
       "      <th id=\"T_86389_level0_row0\" class=\"row_heading level0 row0\" >cat</th>\n",
       "      <td id=\"T_86389_row0_col0\" class=\"data row0 col0\" >1.000000</td>\n",
       "      <td id=\"T_86389_row0_col1\" class=\"data row0 col1\" >1.000000</td>\n",
       "      <td id=\"T_86389_row0_col2\" class=\"data row0 col2\" >0.193050</td>\n",
       "      <td id=\"T_86389_row0_col3\" class=\"data row0 col3\" >0.258738</td>\n",
       "      <td id=\"T_86389_row0_col4\" class=\"data row0 col4\" >0.307154</td>\n",
       "      <td id=\"T_86389_row0_col5\" class=\"data row0 col5\" >0.310447</td>\n",
       "      <td id=\"T_86389_row0_col6\" class=\"data row0 col6\" >0.198101</td>\n",
       "    </tr>\n",
       "    <tr>\n",
       "      <th id=\"T_86389_level0_row1\" class=\"row_heading level0 row1\" >dog</th>\n",
       "      <td id=\"T_86389_row1_col0\" class=\"data row1 col0\" >1.000000</td>\n",
       "      <td id=\"T_86389_row1_col1\" class=\"data row1 col1\" >1.000000</td>\n",
       "      <td id=\"T_86389_row1_col2\" class=\"data row1 col2\" >0.193050</td>\n",
       "      <td id=\"T_86389_row1_col3\" class=\"data row1 col3\" >0.258738</td>\n",
       "      <td id=\"T_86389_row1_col4\" class=\"data row1 col4\" >0.307154</td>\n",
       "      <td id=\"T_86389_row1_col5\" class=\"data row1 col5\" >0.310447</td>\n",
       "      <td id=\"T_86389_row1_col6\" class=\"data row1 col6\" >0.198101</td>\n",
       "    </tr>\n",
       "    <tr>\n",
       "      <th id=\"T_86389_level0_row2\" class=\"row_heading level0 row2\" >car</th>\n",
       "      <td id=\"T_86389_row2_col0\" class=\"data row2 col0\" >0.193050</td>\n",
       "      <td id=\"T_86389_row2_col1\" class=\"data row2 col1\" >0.193050</td>\n",
       "      <td id=\"T_86389_row2_col2\" class=\"data row2 col2\" >1.000000</td>\n",
       "      <td id=\"T_86389_row2_col3\" class=\"data row2 col3\" >0.078293</td>\n",
       "      <td id=\"T_86389_row2_col4\" class=\"data row2 col4\" >0.364785</td>\n",
       "      <td id=\"T_86389_row2_col5\" class=\"data row2 col5\" >0.172172</td>\n",
       "      <td id=\"T_86389_row2_col6\" class=\"data row2 col6\" >0.170922</td>\n",
       "    </tr>\n",
       "    <tr>\n",
       "      <th id=\"T_86389_level0_row3\" class=\"row_heading level0 row3\" >bird</th>\n",
       "      <td id=\"T_86389_row3_col0\" class=\"data row3 col0\" >0.258738</td>\n",
       "      <td id=\"T_86389_row3_col1\" class=\"data row3 col1\" >0.258738</td>\n",
       "      <td id=\"T_86389_row3_col2\" class=\"data row3 col2\" >0.078293</td>\n",
       "      <td id=\"T_86389_row3_col3\" class=\"data row3 col3\" >1.000000</td>\n",
       "      <td id=\"T_86389_row3_col4\" class=\"data row3 col4\" >0.181234</td>\n",
       "      <td id=\"T_86389_row3_col5\" class=\"data row3 col5\" >0.271852</td>\n",
       "      <td id=\"T_86389_row3_col6\" class=\"data row3 col6\" >0.314563</td>\n",
       "    </tr>\n",
       "    <tr>\n",
       "      <th id=\"T_86389_level0_row4\" class=\"row_heading level0 row4\" >eagle</th>\n",
       "      <td id=\"T_86389_row4_col0\" class=\"data row4 col0\" >0.307154</td>\n",
       "      <td id=\"T_86389_row4_col1\" class=\"data row4 col1\" >0.307154</td>\n",
       "      <td id=\"T_86389_row4_col2\" class=\"data row4 col2\" >0.364785</td>\n",
       "      <td id=\"T_86389_row4_col3\" class=\"data row4 col3\" >0.181234</td>\n",
       "      <td id=\"T_86389_row4_col4\" class=\"data row4 col4\" >1.000000</td>\n",
       "      <td id=\"T_86389_row4_col5\" class=\"data row4 col5\" >0.247915</td>\n",
       "      <td id=\"T_86389_row4_col6\" class=\"data row4 col6\" >0.146649</td>\n",
       "    </tr>\n",
       "    <tr>\n",
       "      <th id=\"T_86389_level0_row5\" class=\"row_heading level0 row5\" >milk</th>\n",
       "      <td id=\"T_86389_row5_col0\" class=\"data row5 col0\" >0.310447</td>\n",
       "      <td id=\"T_86389_row5_col1\" class=\"data row5 col1\" >0.310447</td>\n",
       "      <td id=\"T_86389_row5_col2\" class=\"data row5 col2\" >0.172172</td>\n",
       "      <td id=\"T_86389_row5_col3\" class=\"data row5 col3\" >0.271852</td>\n",
       "      <td id=\"T_86389_row5_col4\" class=\"data row5 col4\" >0.247915</td>\n",
       "      <td id=\"T_86389_row5_col5\" class=\"data row5 col5\" >1.000000</td>\n",
       "      <td id=\"T_86389_row5_col6\" class=\"data row5 col6\" >0.246011</td>\n",
       "    </tr>\n",
       "    <tr>\n",
       "      <th id=\"T_86389_level0_row6\" class=\"row_heading level0 row6\" >fly</th>\n",
       "      <td id=\"T_86389_row6_col0\" class=\"data row6 col0\" >0.198101</td>\n",
       "      <td id=\"T_86389_row6_col1\" class=\"data row6 col1\" >0.198101</td>\n",
       "      <td id=\"T_86389_row6_col2\" class=\"data row6 col2\" >0.170922</td>\n",
       "      <td id=\"T_86389_row6_col3\" class=\"data row6 col3\" >0.314563</td>\n",
       "      <td id=\"T_86389_row6_col4\" class=\"data row6 col4\" >0.146649</td>\n",
       "      <td id=\"T_86389_row6_col5\" class=\"data row6 col5\" >0.246011</td>\n",
       "      <td id=\"T_86389_row6_col6\" class=\"data row6 col6\" >1.000000</td>\n",
       "    </tr>\n",
       "  </tbody>\n",
       "</table>\n"
      ],
      "text/plain": [
       "<pandas.io.formats.style.Styler at 0x7fe6f8df2750>"
      ]
     },
     "execution_count": 7,
     "metadata": {},
     "output_type": "execute_result"
    }
   ],
   "source": [
    "similarities = cosine_similarity(vectors, vectors)\n",
    "pd.DataFrame(similarities, columns=words, index=words).style.background_gradient(cmap=cm)"
   ]
  },
  {
   "cell_type": "markdown",
   "metadata": {
    "id": "No9Zmvivzffz"
   },
   "source": [
    "# Vectors !\n",
    "\n",
    "The vectors generated by `spacy` model is a 300 dimensional vector which is the output of a pre-trained GloVe model."
   ]
  },
  {
   "cell_type": "code",
   "execution_count": 9,
   "metadata": {
    "ExecuteTime": {
     "end_time": "2021-11-07T21:50:15.459013Z",
     "start_time": "2021-11-07T21:50:15.403882Z"
    },
    "colab": {
     "base_uri": "https://localhost:8080/"
    },
    "executionInfo": {
     "elapsed": 8,
     "status": "ok",
     "timestamp": 1656579320550,
     "user": {
      "displayName": "Wssam Hassan",
      "userId": "16924058918477820692"
     },
     "user_tz": -120
    },
    "id": "ndXH3xwBzff0",
    "outputId": "df8f9ad7-b7bf-46b4-e59f-51153fbeaab2"
   },
   "outputs": [
    {
     "name": "stdout",
     "output_type": "stream",
     "text": [
      "(300,)\n",
      "[-0.60877  0.30253 -0.12351 -0.23647  0.2665 ]\n"
     ]
    }
   ],
   "source": [
    "vector = nlp(\"Bank\").vector\n",
    "print(vector.shape)\n",
    "print(vector[:5])"
   ]
  },
  {
   "cell_type": "markdown",
   "metadata": {
    "id": "kNImmlxAzff5"
   },
   "source": [
    "## Embeddings as feature\n",
    "\n",
    "We can use word embedding as features of the text and build a classifier using them"
   ]
  },
  {
   "cell_type": "code",
   "execution_count": 8,
   "metadata": {
    "ExecuteTime": {
     "end_time": "2021-11-07T22:05:53.193521Z",
     "start_time": "2021-11-07T22:05:51.227981Z"
    },
    "executionInfo": {
     "elapsed": 16795,
     "status": "ok",
     "timestamp": 1656582401430,
     "user": {
      "displayName": "Wssam Hassan",
      "userId": "16924058918477820692"
     },
     "user_tz": -120
    },
    "id": "FwJH7ZrSzff6"
   },
   "outputs": [],
   "source": [
    "import numpy as np\n",
    "from tqdm.auto import tqdm\n",
    "from sklearn.datasets import fetch_20newsgroups\n",
    "from sklearn.linear_model import LogisticRegression\n",
    "from sklearn.svm import LinearSVC\n",
    "from sklearn.metrics import classification_report\n",
    "\n",
    "categories = ['alt.atheism', 'soc.religion.christian',\n",
    "              'comp.graphics', 'sci.med']\n",
    "              \n",
    "x_train, y_train = fetch_20newsgroups(categories=categories, \n",
    "                          remove=('headers', 'footers', 'quotes'), return_X_y=True)\n",
    "x_test, y_test = fetch_20newsgroups(categories=categories, \n",
    "                          remove=('headers', 'footers', 'quotes'), return_X_y=True, subset='test')"
   ]
  },
  {
   "cell_type": "code",
   "execution_count": 9,
   "metadata": {
    "ExecuteTime": {
     "end_time": "2021-11-07T22:08:34.484149Z",
     "start_time": "2021-11-07T22:05:54.754281Z"
    },
    "colab": {
     "base_uri": "https://localhost:8080/",
     "height": 81,
     "referenced_widgets": [
      "e9af3d6842cd48689380adb2299cf0ec",
      "72b0e44f757242bba8a68caa5e31dccc",
      "e7902299ca60410e9db2633cc6fee901",
      "3c0e7170b38948bd953fdc63bad5b743",
      "626f6bfc069e4504a25b23c53c58ad6f",
      "67b4cda03c6d4480b62efcad99d1e8fd",
      "4382315490054865ade9b365df741cde",
      "cfc6edf92c494fceb4b7bc10f47c2850",
      "447f03194d274aa99db2fd9cc0f6556a",
      "4616627ccb47497e852872210fcd0840",
      "ea408859a18f4423a8c3f496e0fefb61",
      "0833377c3f0644529b48ea7fcb030a71",
      "59447087386f452ba2363bd9cd6d523e",
      "e767fc3f17fa415a92b9252ec4d1e8c6",
      "f5c5ca9d7a4e44cda96f1e800b369221",
      "7fe4a6640f134a2d8c653d3eec35e5f1",
      "af55713851144953b8ee0d07a15d1652",
      "b29c8c82d29a4cee87e39c723c2910cd",
      "2d41f64a75134f7e88142dbf0e7f8e26",
      "5740e62e0dc44fcd9697be2f244b8489",
      "9e97c5ee0bda419b86f215db97d34eb6",
      "9c646409ea114cfeb2b790bbabb1f1b2"
     ]
    },
    "executionInfo": {
     "elapsed": 133654,
     "status": "ok",
     "timestamp": 1656582595488,
     "user": {
      "displayName": "Wssam Hassan",
      "userId": "16924058918477820692"
     },
     "user_tz": -120
    },
    "id": "oSc6y765zff7",
    "outputId": "c8caa4fb-08e0-4115-a445-2f7f8873f867"
   },
   "outputs": [
    {
     "data": {
      "application/vnd.jupyter.widget-view+json": {
       "model_id": "e9af3d6842cd48689380adb2299cf0ec",
       "version_major": 2,
       "version_minor": 0
      },
      "text/plain": [
       "  0%|          | 0/2257 [00:00<?, ?it/s]"
      ]
     },
     "metadata": {},
     "output_type": "display_data"
    },
    {
     "data": {
      "application/vnd.jupyter.widget-view+json": {
       "model_id": "0833377c3f0644529b48ea7fcb030a71",
       "version_major": 2,
       "version_minor": 0
      },
      "text/plain": [
       "  0%|          | 0/1502 [00:00<?, ?it/s]"
      ]
     },
     "metadata": {},
     "output_type": "display_data"
    }
   ],
   "source": [
    "x_train_v = np.zeros((len(x_train), 300))\n",
    "x_test_v = np.zeros((len(x_test), 300))\n",
    "\n",
    "for i, doc in tqdm(enumerate(nlp.pipe(x_train)), total=len(x_train)):\n",
    "    x_train_v[i, :] = doc.vector\n",
    "\n",
    "for i, doc in tqdm(enumerate(nlp.pipe(x_test)), total=len(x_test)):\n",
    "    x_test_v[i, :] = doc.vector"
   ]
  },
  {
   "cell_type": "markdown",
   "metadata": {
    "id": "hTUyFiZrzff8"
   },
   "source": [
    "# Train a classifier"
   ]
  },
  {
   "cell_type": "code",
   "execution_count": null,
   "metadata": {
    "ExecuteTime": {
     "end_time": "2021-11-07T22:12:21.083444Z",
     "start_time": "2021-11-07T22:12:19.718135Z"
    },
    "id": "THxNG9ulzff9",
    "outputId": "abddf71d-277e-4d65-cdfc-97b30cf0a28c"
   },
   "outputs": [
    {
     "name": "stdout",
     "output_type": "stream",
     "text": [
      "                        precision    recall  f1-score   support\n",
      "\n",
      "           alt.atheism       0.72      0.65      0.69       319\n",
      "soc.religion.christian       0.91      0.90      0.91       389\n",
      "         comp.graphics       0.85      0.88      0.86       396\n",
      "               sci.med       0.80      0.83      0.82       398\n",
      "\n",
      "              accuracy                           0.83      1502\n",
      "             macro avg       0.82      0.82      0.82      1502\n",
      "          weighted avg       0.83      0.83      0.83      1502\n",
      "\n"
     ]
    }
   ],
   "source": [
    "clf = LinearSVC()\n",
    "clf.fit(x_train_v, y_train)\n",
    "print(classification_report(y_test, clf.predict(x_test_v), target_names=categories))"
   ]
  },
  {
   "cell_type": "markdown",
   "metadata": {
    "id": "EkayxKRMzff9"
   },
   "source": [
    "# Get top similar"
   ]
  },
  {
   "cell_type": "code",
   "execution_count": null,
   "metadata": {
    "ExecuteTime": {
     "end_time": "2021-11-07T22:25:25.193868Z",
     "start_time": "2021-11-07T22:25:25.134700Z"
    },
    "id": "ZUaVXvNFzff-",
    "outputId": "b4311283-e6ea-4197-b24f-3c22330d3599"
   },
   "outputs": [
    {
     "name": "stdout",
     "output_type": "stream",
     "text": [
      "ID: 451\n",
      "True label: \u001b[32msci.med\u001b[0m\n",
      "0 nearest label is \u001b[32msci.med\u001b[0m similarity score: \u001b[33m0.991\u001b[0m\n",
      "1 nearest label is \u001b[32msci.med\u001b[0m similarity score: \u001b[33m0.991\u001b[0m\n",
      "2 nearest label is \u001b[32msci.med\u001b[0m similarity score: \u001b[33m0.991\u001b[0m\n",
      "ID: 1278\n",
      "True label: \u001b[32msoc.religion.christian\u001b[0m\n",
      "0 nearest label is \u001b[32msoc.religion.christian\u001b[0m similarity score: \u001b[33m0.965\u001b[0m\n",
      "1 nearest label is \u001b[32msoc.religion.christian\u001b[0m similarity score: \u001b[33m0.962\u001b[0m\n",
      "2 nearest label is \u001b[32msoc.religion.christian\u001b[0m similarity score: \u001b[33m0.96\u001b[0m\n",
      "ID: 107\n",
      "True label: \u001b[32mcomp.graphics\u001b[0m\n",
      "0 nearest label is \u001b[32mcomp.graphics\u001b[0m similarity score: \u001b[33m0.965\u001b[0m\n",
      "1 nearest label is \u001b[32mcomp.graphics\u001b[0m similarity score: \u001b[33m0.959\u001b[0m\n",
      "2 nearest label is \u001b[32mcomp.graphics\u001b[0m similarity score: \u001b[33m0.958\u001b[0m\n",
      "ID: 407\n",
      "True label: \u001b[32msoc.religion.christian\u001b[0m\n",
      "0 nearest label is \u001b[32msoc.religion.christian\u001b[0m similarity score: \u001b[33m0.94\u001b[0m\n",
      "1 nearest label is \u001b[32msoc.religion.christian\u001b[0m similarity score: \u001b[33m0.936\u001b[0m\n",
      "2 nearest label is \u001b[32msoc.religion.christian\u001b[0m similarity score: \u001b[33m0.935\u001b[0m\n",
      "ID: 1307\n",
      "True label: \u001b[32mcomp.graphics\u001b[0m\n",
      "0 nearest label is \u001b[31malt.atheism\u001b[0m similarity score: \u001b[33m0.964\u001b[0m\n",
      "1 nearest label is \u001b[31msoc.religion.christian\u001b[0m similarity score: \u001b[33m0.962\u001b[0m\n",
      "2 nearest label is \u001b[32mcomp.graphics\u001b[0m similarity score: \u001b[33m0.962\u001b[0m\n"
     ]
    }
   ],
   "source": [
    "import random\n",
    "from termcolor import colored\n",
    "\n",
    "for i in random.choices(range(0, len(x_test_v)), k=5):\n",
    "    print(f\"ID: {i}\")\n",
    "    print(\"True label:\", colored(categories[y_test[i]], 'green'))\n",
    "    distances = cosine_similarity([x_test_v[i]], x_train_v).flatten()\n",
    "    indices = np.argsort(distances)[::-1]\n",
    "    for _, j in enumerate(indices[:3]):\n",
    "        print(f\"{_} nearest label is\",\n",
    "              f\"{colored(categories[y_train[j]], 'green' if y_train[j]==y_test[i] else 'red')}\",\n",
    "              f\"similarity score: {colored(round(distances[j], 3), 'yellow')}\")"
   ]
  },
  {
   "cell_type": "markdown",
   "metadata": {
    "id": "4zx9V3QPzfgA"
   },
   "source": [
    "# Conclusion\n",
    "\n",
    "- Word embedding is a very powerful feature specially if you have small data, as your model will make use of the learned features of the word2vec model and thus will be able to make better predictions.\n",
    "- Word2vec and GloVe don't count for different context that the same word can have in different sentences"
   ]
  }
 ],
 "metadata": {
  "accelerator": "GPU",
  "celltoolbar": "Slideshow",
  "colab": {
   "name": "2.1 Word Embedding.ipynb",
   "provenance": []
  },
  "gpuClass": "standard",
  "kernelspec": {
   "display_name": "Python 3",
   "language": "python",
   "name": "python3"
  },
  "language_info": {
   "codemirror_mode": {
    "name": "ipython",
    "version": 3
   },
   "file_extension": ".py",
   "mimetype": "text/x-python",
   "name": "python",
   "nbconvert_exporter": "python",
   "pygments_lexer": "ipython3",
   "version": "3.8.5"
  },
  "widgets": {
   "application/vnd.jupyter.widget-state+json": {
    "0833377c3f0644529b48ea7fcb030a71": {
     "model_module": "@jupyter-widgets/controls",
     "model_module_version": "1.5.0",
     "model_name": "HBoxModel",
     "state": {
      "_dom_classes": [],
      "_model_module": "@jupyter-widgets/controls",
      "_model_module_version": "1.5.0",
      "_model_name": "HBoxModel",
      "_view_count": null,
      "_view_module": "@jupyter-widgets/controls",
      "_view_module_version": "1.5.0",
      "_view_name": "HBoxView",
      "box_style": "",
      "children": [
       "IPY_MODEL_59447087386f452ba2363bd9cd6d523e",
       "IPY_MODEL_e767fc3f17fa415a92b9252ec4d1e8c6",
       "IPY_MODEL_f5c5ca9d7a4e44cda96f1e800b369221"
      ],
      "layout": "IPY_MODEL_7fe4a6640f134a2d8c653d3eec35e5f1"
     }
    },
    "2d41f64a75134f7e88142dbf0e7f8e26": {
     "model_module": "@jupyter-widgets/base",
     "model_module_version": "1.2.0",
     "model_name": "LayoutModel",
     "state": {
      "_model_module": "@jupyter-widgets/base",
      "_model_module_version": "1.2.0",
      "_model_name": "LayoutModel",
      "_view_count": null,
      "_view_module": "@jupyter-widgets/base",
      "_view_module_version": "1.2.0",
      "_view_name": "LayoutView",
      "align_content": null,
      "align_items": null,
      "align_self": null,
      "border": null,
      "bottom": null,
      "display": null,
      "flex": null,
      "flex_flow": null,
      "grid_area": null,
      "grid_auto_columns": null,
      "grid_auto_flow": null,
      "grid_auto_rows": null,
      "grid_column": null,
      "grid_gap": null,
      "grid_row": null,
      "grid_template_areas": null,
      "grid_template_columns": null,
      "grid_template_rows": null,
      "height": null,
      "justify_content": null,
      "justify_items": null,
      "left": null,
      "margin": null,
      "max_height": null,
      "max_width": null,
      "min_height": null,
      "min_width": null,
      "object_fit": null,
      "object_position": null,
      "order": null,
      "overflow": null,
      "overflow_x": null,
      "overflow_y": null,
      "padding": null,
      "right": null,
      "top": null,
      "visibility": null,
      "width": null
     }
    },
    "3c0e7170b38948bd953fdc63bad5b743": {
     "model_module": "@jupyter-widgets/controls",
     "model_module_version": "1.5.0",
     "model_name": "HTMLModel",
     "state": {
      "_dom_classes": [],
      "_model_module": "@jupyter-widgets/controls",
      "_model_module_version": "1.5.0",
      "_model_name": "HTMLModel",
      "_view_count": null,
      "_view_module": "@jupyter-widgets/controls",
      "_view_module_version": "1.5.0",
      "_view_name": "HTMLView",
      "description": "",
      "description_tooltip": null,
      "layout": "IPY_MODEL_4616627ccb47497e852872210fcd0840",
      "placeholder": "​",
      "style": "IPY_MODEL_ea408859a18f4423a8c3f496e0fefb61",
      "value": " 2257/2257 [01:17&lt;00:00, 41.01it/s]"
     }
    },
    "4382315490054865ade9b365df741cde": {
     "model_module": "@jupyter-widgets/controls",
     "model_module_version": "1.5.0",
     "model_name": "DescriptionStyleModel",
     "state": {
      "_model_module": "@jupyter-widgets/controls",
      "_model_module_version": "1.5.0",
      "_model_name": "DescriptionStyleModel",
      "_view_count": null,
      "_view_module": "@jupyter-widgets/base",
      "_view_module_version": "1.2.0",
      "_view_name": "StyleView",
      "description_width": ""
     }
    },
    "447f03194d274aa99db2fd9cc0f6556a": {
     "model_module": "@jupyter-widgets/controls",
     "model_module_version": "1.5.0",
     "model_name": "ProgressStyleModel",
     "state": {
      "_model_module": "@jupyter-widgets/controls",
      "_model_module_version": "1.5.0",
      "_model_name": "ProgressStyleModel",
      "_view_count": null,
      "_view_module": "@jupyter-widgets/base",
      "_view_module_version": "1.2.0",
      "_view_name": "StyleView",
      "bar_color": null,
      "description_width": ""
     }
    },
    "4616627ccb47497e852872210fcd0840": {
     "model_module": "@jupyter-widgets/base",
     "model_module_version": "1.2.0",
     "model_name": "LayoutModel",
     "state": {
      "_model_module": "@jupyter-widgets/base",
      "_model_module_version": "1.2.0",
      "_model_name": "LayoutModel",
      "_view_count": null,
      "_view_module": "@jupyter-widgets/base",
      "_view_module_version": "1.2.0",
      "_view_name": "LayoutView",
      "align_content": null,
      "align_items": null,
      "align_self": null,
      "border": null,
      "bottom": null,
      "display": null,
      "flex": null,
      "flex_flow": null,
      "grid_area": null,
      "grid_auto_columns": null,
      "grid_auto_flow": null,
      "grid_auto_rows": null,
      "grid_column": null,
      "grid_gap": null,
      "grid_row": null,
      "grid_template_areas": null,
      "grid_template_columns": null,
      "grid_template_rows": null,
      "height": null,
      "justify_content": null,
      "justify_items": null,
      "left": null,
      "margin": null,
      "max_height": null,
      "max_width": null,
      "min_height": null,
      "min_width": null,
      "object_fit": null,
      "object_position": null,
      "order": null,
      "overflow": null,
      "overflow_x": null,
      "overflow_y": null,
      "padding": null,
      "right": null,
      "top": null,
      "visibility": null,
      "width": null
     }
    },
    "5740e62e0dc44fcd9697be2f244b8489": {
     "model_module": "@jupyter-widgets/controls",
     "model_module_version": "1.5.0",
     "model_name": "ProgressStyleModel",
     "state": {
      "_model_module": "@jupyter-widgets/controls",
      "_model_module_version": "1.5.0",
      "_model_name": "ProgressStyleModel",
      "_view_count": null,
      "_view_module": "@jupyter-widgets/base",
      "_view_module_version": "1.2.0",
      "_view_name": "StyleView",
      "bar_color": null,
      "description_width": ""
     }
    },
    "59447087386f452ba2363bd9cd6d523e": {
     "model_module": "@jupyter-widgets/controls",
     "model_module_version": "1.5.0",
     "model_name": "HTMLModel",
     "state": {
      "_dom_classes": [],
      "_model_module": "@jupyter-widgets/controls",
      "_model_module_version": "1.5.0",
      "_model_name": "HTMLModel",
      "_view_count": null,
      "_view_module": "@jupyter-widgets/controls",
      "_view_module_version": "1.5.0",
      "_view_name": "HTMLView",
      "description": "",
      "description_tooltip": null,
      "layout": "IPY_MODEL_af55713851144953b8ee0d07a15d1652",
      "placeholder": "​",
      "style": "IPY_MODEL_b29c8c82d29a4cee87e39c723c2910cd",
      "value": "100%"
     }
    },
    "626f6bfc069e4504a25b23c53c58ad6f": {
     "model_module": "@jupyter-widgets/base",
     "model_module_version": "1.2.0",
     "model_name": "LayoutModel",
     "state": {
      "_model_module": "@jupyter-widgets/base",
      "_model_module_version": "1.2.0",
      "_model_name": "LayoutModel",
      "_view_count": null,
      "_view_module": "@jupyter-widgets/base",
      "_view_module_version": "1.2.0",
      "_view_name": "LayoutView",
      "align_content": null,
      "align_items": null,
      "align_self": null,
      "border": null,
      "bottom": null,
      "display": null,
      "flex": null,
      "flex_flow": null,
      "grid_area": null,
      "grid_auto_columns": null,
      "grid_auto_flow": null,
      "grid_auto_rows": null,
      "grid_column": null,
      "grid_gap": null,
      "grid_row": null,
      "grid_template_areas": null,
      "grid_template_columns": null,
      "grid_template_rows": null,
      "height": null,
      "justify_content": null,
      "justify_items": null,
      "left": null,
      "margin": null,
      "max_height": null,
      "max_width": null,
      "min_height": null,
      "min_width": null,
      "object_fit": null,
      "object_position": null,
      "order": null,
      "overflow": null,
      "overflow_x": null,
      "overflow_y": null,
      "padding": null,
      "right": null,
      "top": null,
      "visibility": null,
      "width": null
     }
    },
    "67b4cda03c6d4480b62efcad99d1e8fd": {
     "model_module": "@jupyter-widgets/base",
     "model_module_version": "1.2.0",
     "model_name": "LayoutModel",
     "state": {
      "_model_module": "@jupyter-widgets/base",
      "_model_module_version": "1.2.0",
      "_model_name": "LayoutModel",
      "_view_count": null,
      "_view_module": "@jupyter-widgets/base",
      "_view_module_version": "1.2.0",
      "_view_name": "LayoutView",
      "align_content": null,
      "align_items": null,
      "align_self": null,
      "border": null,
      "bottom": null,
      "display": null,
      "flex": null,
      "flex_flow": null,
      "grid_area": null,
      "grid_auto_columns": null,
      "grid_auto_flow": null,
      "grid_auto_rows": null,
      "grid_column": null,
      "grid_gap": null,
      "grid_row": null,
      "grid_template_areas": null,
      "grid_template_columns": null,
      "grid_template_rows": null,
      "height": null,
      "justify_content": null,
      "justify_items": null,
      "left": null,
      "margin": null,
      "max_height": null,
      "max_width": null,
      "min_height": null,
      "min_width": null,
      "object_fit": null,
      "object_position": null,
      "order": null,
      "overflow": null,
      "overflow_x": null,
      "overflow_y": null,
      "padding": null,
      "right": null,
      "top": null,
      "visibility": null,
      "width": null
     }
    },
    "72b0e44f757242bba8a68caa5e31dccc": {
     "model_module": "@jupyter-widgets/controls",
     "model_module_version": "1.5.0",
     "model_name": "HTMLModel",
     "state": {
      "_dom_classes": [],
      "_model_module": "@jupyter-widgets/controls",
      "_model_module_version": "1.5.0",
      "_model_name": "HTMLModel",
      "_view_count": null,
      "_view_module": "@jupyter-widgets/controls",
      "_view_module_version": "1.5.0",
      "_view_name": "HTMLView",
      "description": "",
      "description_tooltip": null,
      "layout": "IPY_MODEL_67b4cda03c6d4480b62efcad99d1e8fd",
      "placeholder": "​",
      "style": "IPY_MODEL_4382315490054865ade9b365df741cde",
      "value": "100%"
     }
    },
    "7fe4a6640f134a2d8c653d3eec35e5f1": {
     "model_module": "@jupyter-widgets/base",
     "model_module_version": "1.2.0",
     "model_name": "LayoutModel",
     "state": {
      "_model_module": "@jupyter-widgets/base",
      "_model_module_version": "1.2.0",
      "_model_name": "LayoutModel",
      "_view_count": null,
      "_view_module": "@jupyter-widgets/base",
      "_view_module_version": "1.2.0",
      "_view_name": "LayoutView",
      "align_content": null,
      "align_items": null,
      "align_self": null,
      "border": null,
      "bottom": null,
      "display": null,
      "flex": null,
      "flex_flow": null,
      "grid_area": null,
      "grid_auto_columns": null,
      "grid_auto_flow": null,
      "grid_auto_rows": null,
      "grid_column": null,
      "grid_gap": null,
      "grid_row": null,
      "grid_template_areas": null,
      "grid_template_columns": null,
      "grid_template_rows": null,
      "height": null,
      "justify_content": null,
      "justify_items": null,
      "left": null,
      "margin": null,
      "max_height": null,
      "max_width": null,
      "min_height": null,
      "min_width": null,
      "object_fit": null,
      "object_position": null,
      "order": null,
      "overflow": null,
      "overflow_x": null,
      "overflow_y": null,
      "padding": null,
      "right": null,
      "top": null,
      "visibility": null,
      "width": null
     }
    },
    "9c646409ea114cfeb2b790bbabb1f1b2": {
     "model_module": "@jupyter-widgets/controls",
     "model_module_version": "1.5.0",
     "model_name": "DescriptionStyleModel",
     "state": {
      "_model_module": "@jupyter-widgets/controls",
      "_model_module_version": "1.5.0",
      "_model_name": "DescriptionStyleModel",
      "_view_count": null,
      "_view_module": "@jupyter-widgets/base",
      "_view_module_version": "1.2.0",
      "_view_name": "StyleView",
      "description_width": ""
     }
    },
    "9e97c5ee0bda419b86f215db97d34eb6": {
     "model_module": "@jupyter-widgets/base",
     "model_module_version": "1.2.0",
     "model_name": "LayoutModel",
     "state": {
      "_model_module": "@jupyter-widgets/base",
      "_model_module_version": "1.2.0",
      "_model_name": "LayoutModel",
      "_view_count": null,
      "_view_module": "@jupyter-widgets/base",
      "_view_module_version": "1.2.0",
      "_view_name": "LayoutView",
      "align_content": null,
      "align_items": null,
      "align_self": null,
      "border": null,
      "bottom": null,
      "display": null,
      "flex": null,
      "flex_flow": null,
      "grid_area": null,
      "grid_auto_columns": null,
      "grid_auto_flow": null,
      "grid_auto_rows": null,
      "grid_column": null,
      "grid_gap": null,
      "grid_row": null,
      "grid_template_areas": null,
      "grid_template_columns": null,
      "grid_template_rows": null,
      "height": null,
      "justify_content": null,
      "justify_items": null,
      "left": null,
      "margin": null,
      "max_height": null,
      "max_width": null,
      "min_height": null,
      "min_width": null,
      "object_fit": null,
      "object_position": null,
      "order": null,
      "overflow": null,
      "overflow_x": null,
      "overflow_y": null,
      "padding": null,
      "right": null,
      "top": null,
      "visibility": null,
      "width": null
     }
    },
    "af55713851144953b8ee0d07a15d1652": {
     "model_module": "@jupyter-widgets/base",
     "model_module_version": "1.2.0",
     "model_name": "LayoutModel",
     "state": {
      "_model_module": "@jupyter-widgets/base",
      "_model_module_version": "1.2.0",
      "_model_name": "LayoutModel",
      "_view_count": null,
      "_view_module": "@jupyter-widgets/base",
      "_view_module_version": "1.2.0",
      "_view_name": "LayoutView",
      "align_content": null,
      "align_items": null,
      "align_self": null,
      "border": null,
      "bottom": null,
      "display": null,
      "flex": null,
      "flex_flow": null,
      "grid_area": null,
      "grid_auto_columns": null,
      "grid_auto_flow": null,
      "grid_auto_rows": null,
      "grid_column": null,
      "grid_gap": null,
      "grid_row": null,
      "grid_template_areas": null,
      "grid_template_columns": null,
      "grid_template_rows": null,
      "height": null,
      "justify_content": null,
      "justify_items": null,
      "left": null,
      "margin": null,
      "max_height": null,
      "max_width": null,
      "min_height": null,
      "min_width": null,
      "object_fit": null,
      "object_position": null,
      "order": null,
      "overflow": null,
      "overflow_x": null,
      "overflow_y": null,
      "padding": null,
      "right": null,
      "top": null,
      "visibility": null,
      "width": null
     }
    },
    "b29c8c82d29a4cee87e39c723c2910cd": {
     "model_module": "@jupyter-widgets/controls",
     "model_module_version": "1.5.0",
     "model_name": "DescriptionStyleModel",
     "state": {
      "_model_module": "@jupyter-widgets/controls",
      "_model_module_version": "1.5.0",
      "_model_name": "DescriptionStyleModel",
      "_view_count": null,
      "_view_module": "@jupyter-widgets/base",
      "_view_module_version": "1.2.0",
      "_view_name": "StyleView",
      "description_width": ""
     }
    },
    "cfc6edf92c494fceb4b7bc10f47c2850": {
     "model_module": "@jupyter-widgets/base",
     "model_module_version": "1.2.0",
     "model_name": "LayoutModel",
     "state": {
      "_model_module": "@jupyter-widgets/base",
      "_model_module_version": "1.2.0",
      "_model_name": "LayoutModel",
      "_view_count": null,
      "_view_module": "@jupyter-widgets/base",
      "_view_module_version": "1.2.0",
      "_view_name": "LayoutView",
      "align_content": null,
      "align_items": null,
      "align_self": null,
      "border": null,
      "bottom": null,
      "display": null,
      "flex": null,
      "flex_flow": null,
      "grid_area": null,
      "grid_auto_columns": null,
      "grid_auto_flow": null,
      "grid_auto_rows": null,
      "grid_column": null,
      "grid_gap": null,
      "grid_row": null,
      "grid_template_areas": null,
      "grid_template_columns": null,
      "grid_template_rows": null,
      "height": null,
      "justify_content": null,
      "justify_items": null,
      "left": null,
      "margin": null,
      "max_height": null,
      "max_width": null,
      "min_height": null,
      "min_width": null,
      "object_fit": null,
      "object_position": null,
      "order": null,
      "overflow": null,
      "overflow_x": null,
      "overflow_y": null,
      "padding": null,
      "right": null,
      "top": null,
      "visibility": null,
      "width": null
     }
    },
    "e767fc3f17fa415a92b9252ec4d1e8c6": {
     "model_module": "@jupyter-widgets/controls",
     "model_module_version": "1.5.0",
     "model_name": "FloatProgressModel",
     "state": {
      "_dom_classes": [],
      "_model_module": "@jupyter-widgets/controls",
      "_model_module_version": "1.5.0",
      "_model_name": "FloatProgressModel",
      "_view_count": null,
      "_view_module": "@jupyter-widgets/controls",
      "_view_module_version": "1.5.0",
      "_view_name": "ProgressView",
      "bar_style": "success",
      "description": "",
      "description_tooltip": null,
      "layout": "IPY_MODEL_2d41f64a75134f7e88142dbf0e7f8e26",
      "max": 1502,
      "min": 0,
      "orientation": "horizontal",
      "style": "IPY_MODEL_5740e62e0dc44fcd9697be2f244b8489",
      "value": 1502
     }
    },
    "e7902299ca60410e9db2633cc6fee901": {
     "model_module": "@jupyter-widgets/controls",
     "model_module_version": "1.5.0",
     "model_name": "FloatProgressModel",
     "state": {
      "_dom_classes": [],
      "_model_module": "@jupyter-widgets/controls",
      "_model_module_version": "1.5.0",
      "_model_name": "FloatProgressModel",
      "_view_count": null,
      "_view_module": "@jupyter-widgets/controls",
      "_view_module_version": "1.5.0",
      "_view_name": "ProgressView",
      "bar_style": "success",
      "description": "",
      "description_tooltip": null,
      "layout": "IPY_MODEL_cfc6edf92c494fceb4b7bc10f47c2850",
      "max": 2257,
      "min": 0,
      "orientation": "horizontal",
      "style": "IPY_MODEL_447f03194d274aa99db2fd9cc0f6556a",
      "value": 2257
     }
    },
    "e9af3d6842cd48689380adb2299cf0ec": {
     "model_module": "@jupyter-widgets/controls",
     "model_module_version": "1.5.0",
     "model_name": "HBoxModel",
     "state": {
      "_dom_classes": [],
      "_model_module": "@jupyter-widgets/controls",
      "_model_module_version": "1.5.0",
      "_model_name": "HBoxModel",
      "_view_count": null,
      "_view_module": "@jupyter-widgets/controls",
      "_view_module_version": "1.5.0",
      "_view_name": "HBoxView",
      "box_style": "",
      "children": [
       "IPY_MODEL_72b0e44f757242bba8a68caa5e31dccc",
       "IPY_MODEL_e7902299ca60410e9db2633cc6fee901",
       "IPY_MODEL_3c0e7170b38948bd953fdc63bad5b743"
      ],
      "layout": "IPY_MODEL_626f6bfc069e4504a25b23c53c58ad6f"
     }
    },
    "ea408859a18f4423a8c3f496e0fefb61": {
     "model_module": "@jupyter-widgets/controls",
     "model_module_version": "1.5.0",
     "model_name": "DescriptionStyleModel",
     "state": {
      "_model_module": "@jupyter-widgets/controls",
      "_model_module_version": "1.5.0",
      "_model_name": "DescriptionStyleModel",
      "_view_count": null,
      "_view_module": "@jupyter-widgets/base",
      "_view_module_version": "1.2.0",
      "_view_name": "StyleView",
      "description_width": ""
     }
    },
    "f5c5ca9d7a4e44cda96f1e800b369221": {
     "model_module": "@jupyter-widgets/controls",
     "model_module_version": "1.5.0",
     "model_name": "HTMLModel",
     "state": {
      "_dom_classes": [],
      "_model_module": "@jupyter-widgets/controls",
      "_model_module_version": "1.5.0",
      "_model_name": "HTMLModel",
      "_view_count": null,
      "_view_module": "@jupyter-widgets/controls",
      "_view_module_version": "1.5.0",
      "_view_name": "HTMLView",
      "description": "",
      "description_tooltip": null,
      "layout": "IPY_MODEL_9e97c5ee0bda419b86f215db97d34eb6",
      "placeholder": "​",
      "style": "IPY_MODEL_9c646409ea114cfeb2b790bbabb1f1b2",
      "value": " 1502/1502 [00:56&lt;00:00, 41.09it/s]"
     }
    }
   }
  }
 },
 "nbformat": 4,
 "nbformat_minor": 0
}
